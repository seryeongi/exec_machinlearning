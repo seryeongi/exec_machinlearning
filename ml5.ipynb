{
  "nbformat": 4,
  "nbformat_minor": 0,
  "metadata": {
    "colab": {
      "name": "Untitled18.ipynb",
      "provenance": [],
      "collapsed_sections": [],
      "authorship_tag": "ABX9TyOSTwFuMrgkcZmC2/mJEmTk",
      "include_colab_link": true
    },
    "kernelspec": {
      "name": "python3",
      "display_name": "Python 3"
    },
    "language_info": {
      "name": "python"
    }
  },
  "cells": [
    {
      "cell_type": "markdown",
      "metadata": {
        "id": "view-in-github",
        "colab_type": "text"
      },
      "source": [
        "<a href=\"https://colab.research.google.com/github/seryeongi/exec_machinlearning/blob/master/ml5.ipynb\" target=\"_parent\"><img src=\"https://colab.research.google.com/assets/colab-badge.svg\" alt=\"Open In Colab\"/></a>"
      ]
    },
    {
      "cell_type": "code",
      "metadata": {
        "colab": {
          "base_uri": "https://localhost:8080/"
        },
        "id": "DwQo0QMWJQlz",
        "outputId": "7ad4beae-929b-43a8-b954-827456ffc45f"
      },
      "source": [
        "from google.colab import drive\n",
        "drive.mount('/content/drive')"
      ],
      "execution_count": null,
      "outputs": [
        {
          "output_type": "stream",
          "text": [
            "Mounted at /content/drive\n"
          ],
          "name": "stdout"
        }
      ]
    },
    {
      "cell_type": "code",
      "metadata": {
        "id": "1BnMLm3HJj51"
      },
      "source": [
        "import pandas as pd\n",
        "import numpy as np"
      ],
      "execution_count": null,
      "outputs": []
    },
    {
      "cell_type": "code",
      "metadata": {
        "id": "ryd_UI1CJOX2"
      },
      "source": [
        "data = pd.read_csv('/content/drive/MyDrive/goms_feature_prep.csv')"
      ],
      "execution_count": null,
      "outputs": []
    },
    {
      "cell_type": "code",
      "metadata": {
        "colab": {
          "base_uri": "https://localhost:8080/",
          "height": 309
        },
        "id": "1oHYMAcHJ8HW",
        "outputId": "581406eb-80a6-41ec-821e-350e838e0cae"
      },
      "source": [
        "data.head()"
      ],
      "execution_count": null,
      "outputs": [
        {
          "output_type": "execute_result",
          "data": {
            "text/html": [
              "<div>\n",
              "<style scoped>\n",
              "    .dataframe tbody tr th:only-of-type {\n",
              "        vertical-align: middle;\n",
              "    }\n",
              "\n",
              "    .dataframe tbody tr th {\n",
              "        vertical-align: top;\n",
              "    }\n",
              "\n",
              "    .dataframe thead th {\n",
              "        text-align: right;\n",
              "    }\n",
              "</style>\n",
              "<table border=\"1\" class=\"dataframe\">\n",
              "  <thead>\n",
              "    <tr style=\"text-align: right;\">\n",
              "      <th></th>\n",
              "      <th>jobseekAftGradu</th>\n",
              "      <th>jobseekAftGradu_str</th>\n",
              "      <th>workWithin1yr</th>\n",
              "      <th>workWithin1yr_str</th>\n",
              "      <th>wishWorkHr</th>\n",
              "      <th>wishSalary</th>\n",
              "      <th>JobYNaftGradu</th>\n",
              "      <th>JobYNaftGradu_str</th>\n",
              "      <th>wayTolivexpense</th>\n",
              "      <th>wayTolivexpense_str</th>\n",
              "      <th>schoolType</th>\n",
              "      <th>schoolType_str</th>\n",
              "      <th>majorType</th>\n",
              "      <th>majorType_str</th>\n",
              "      <th>majorCate</th>\n",
              "      <th>majorCate_str</th>\n",
              "      <th>major</th>\n",
              "      <th>major_str</th>\n",
              "      <th>age</th>\n",
              "      <th>internExp</th>\n",
              "      <th>toeicScore</th>\n",
              "      <th>tospGrade</th>\n",
              "      <th>trainingHr</th>\n",
              "      <th>jobseekYN</th>\n",
              "      <th>certNum</th>\n",
              "      <th>mainJobCate</th>\n",
              "      <th>mainJobCate_str</th>\n",
              "      <th>midJobCate</th>\n",
              "      <th>midJobCate_str</th>\n",
              "      <th>subJobCate</th>\n",
              "      <th>subJobCate_str</th>\n",
              "    </tr>\n",
              "  </thead>\n",
              "  <tbody>\n",
              "    <tr>\n",
              "      <th>0</th>\n",
              "      <td>2</td>\n",
              "      <td>아니오</td>\n",
              "      <td>2</td>\n",
              "      <td>아니오</td>\n",
              "      <td>0</td>\n",
              "      <td>0</td>\n",
              "      <td>2</td>\n",
              "      <td>아니오</td>\n",
              "      <td>1</td>\n",
              "      <td>일자리에서의 근로 소득</td>\n",
              "      <td>1</td>\n",
              "      <td>2~3년제</td>\n",
              "      <td>1</td>\n",
              "      <td>인문</td>\n",
              "      <td>1</td>\n",
              "      <td>일본어</td>\n",
              "      <td>1</td>\n",
              "      <td>비즈니스일본어과</td>\n",
              "      <td>23</td>\n",
              "      <td>0</td>\n",
              "      <td>0</td>\n",
              "      <td>0</td>\n",
              "      <td>0</td>\n",
              "      <td>1</td>\n",
              "      <td>0</td>\n",
              "      <td>6</td>\n",
              "      <td>미용·여행·숙박·음식·경비·청소직</td>\n",
              "      <td>20</td>\n",
              "      <td>경호·경비직</td>\n",
              "      <td>541</td>\n",
              "      <td>경호·보안 종사자</td>\n",
              "    </tr>\n",
              "    <tr>\n",
              "      <th>1</th>\n",
              "      <td>1</td>\n",
              "      <td>예</td>\n",
              "      <td>2</td>\n",
              "      <td>아니오</td>\n",
              "      <td>3</td>\n",
              "      <td>2400</td>\n",
              "      <td>2</td>\n",
              "      <td>아니오</td>\n",
              "      <td>-1</td>\n",
              "      <td>모름/무응답</td>\n",
              "      <td>1</td>\n",
              "      <td>2~3년제</td>\n",
              "      <td>1</td>\n",
              "      <td>인문</td>\n",
              "      <td>1</td>\n",
              "      <td>일본어</td>\n",
              "      <td>2</td>\n",
              "      <td>일본어과</td>\n",
              "      <td>21</td>\n",
              "      <td>0</td>\n",
              "      <td>0</td>\n",
              "      <td>0</td>\n",
              "      <td>240</td>\n",
              "      <td>1</td>\n",
              "      <td>0</td>\n",
              "      <td>0</td>\n",
              "      <td>무직</td>\n",
              "      <td>0</td>\n",
              "      <td>무직</td>\n",
              "      <td>0</td>\n",
              "      <td>무직</td>\n",
              "    </tr>\n",
              "    <tr>\n",
              "      <th>2</th>\n",
              "      <td>2</td>\n",
              "      <td>아니오</td>\n",
              "      <td>2</td>\n",
              "      <td>아니오</td>\n",
              "      <td>0</td>\n",
              "      <td>0</td>\n",
              "      <td>2</td>\n",
              "      <td>아니오</td>\n",
              "      <td>3</td>\n",
              "      <td>가족 친지로부터의 지원</td>\n",
              "      <td>1</td>\n",
              "      <td>2~3년제</td>\n",
              "      <td>1</td>\n",
              "      <td>인문</td>\n",
              "      <td>1</td>\n",
              "      <td>일본어</td>\n",
              "      <td>2</td>\n",
              "      <td>일본어과</td>\n",
              "      <td>21</td>\n",
              "      <td>0</td>\n",
              "      <td>800</td>\n",
              "      <td>0</td>\n",
              "      <td>0</td>\n",
              "      <td>0</td>\n",
              "      <td>1</td>\n",
              "      <td>3</td>\n",
              "      <td>교육·법률·사회복지·경찰·소방직 및 군인</td>\n",
              "      <td>9</td>\n",
              "      <td>교육직</td>\n",
              "      <td>214</td>\n",
              "      <td>문리·기술·예능 강사</td>\n",
              "    </tr>\n",
              "    <tr>\n",
              "      <th>3</th>\n",
              "      <td>2</td>\n",
              "      <td>아니오</td>\n",
              "      <td>2</td>\n",
              "      <td>아니오</td>\n",
              "      <td>0</td>\n",
              "      <td>0</td>\n",
              "      <td>2</td>\n",
              "      <td>아니오</td>\n",
              "      <td>1</td>\n",
              "      <td>일자리에서의 근로 소득</td>\n",
              "      <td>1</td>\n",
              "      <td>2~3년제</td>\n",
              "      <td>1</td>\n",
              "      <td>인문</td>\n",
              "      <td>1</td>\n",
              "      <td>일본어</td>\n",
              "      <td>3</td>\n",
              "      <td>관광일어과</td>\n",
              "      <td>25</td>\n",
              "      <td>0</td>\n",
              "      <td>0</td>\n",
              "      <td>0</td>\n",
              "      <td>0</td>\n",
              "      <td>0</td>\n",
              "      <td>0</td>\n",
              "      <td>6</td>\n",
              "      <td>미용·여행·숙박·음식·경비·청소직</td>\n",
              "      <td>18</td>\n",
              "      <td>여행·숙박·오락 서비스직</td>\n",
              "      <td>522</td>\n",
              "      <td>항공기·선박·열차 객실승무원</td>\n",
              "    </tr>\n",
              "    <tr>\n",
              "      <th>4</th>\n",
              "      <td>2</td>\n",
              "      <td>아니오</td>\n",
              "      <td>2</td>\n",
              "      <td>아니오</td>\n",
              "      <td>0</td>\n",
              "      <td>0</td>\n",
              "      <td>2</td>\n",
              "      <td>아니오</td>\n",
              "      <td>1</td>\n",
              "      <td>일자리에서의 근로 소득</td>\n",
              "      <td>1</td>\n",
              "      <td>2~3년제</td>\n",
              "      <td>1</td>\n",
              "      <td>인문</td>\n",
              "      <td>1</td>\n",
              "      <td>일본어</td>\n",
              "      <td>3</td>\n",
              "      <td>관광일어과</td>\n",
              "      <td>21</td>\n",
              "      <td>0</td>\n",
              "      <td>0</td>\n",
              "      <td>0</td>\n",
              "      <td>0</td>\n",
              "      <td>1</td>\n",
              "      <td>1</td>\n",
              "      <td>7</td>\n",
              "      <td>영업·판매·운전·운송직</td>\n",
              "      <td>23</td>\n",
              "      <td>영업·판매직</td>\n",
              "      <td>615</td>\n",
              "      <td>판매 종사자</td>\n",
              "    </tr>\n",
              "  </tbody>\n",
              "</table>\n",
              "</div>"
            ],
            "text/plain": [
              "   jobseekAftGradu jobseekAftGradu_str  ...  subJobCate    subJobCate_str\n",
              "0                2                 아니오  ...         541         경호·보안 종사자\n",
              "1                1                   예  ...           0                무직\n",
              "2                2                 아니오  ...         214       문리·기술·예능 강사\n",
              "3                2                 아니오  ...         522   항공기·선박·열차 객실승무원\n",
              "4                2                 아니오  ...         615            판매 종사자\n",
              "\n",
              "[5 rows x 31 columns]"
            ]
          },
          "metadata": {
            "tags": []
          },
          "execution_count": 18
        }
      ]
    },
    {
      "cell_type": "markdown",
      "metadata": {
        "id": "TsblRQEIKVnq"
      },
      "source": [
        "majorcate, mainJobCate 사용  \n"
      ]
    },
    {
      "cell_type": "code",
      "metadata": {
        "id": "xIrbsFffJ8a0",
        "colab": {
          "base_uri": "https://localhost:8080/"
        },
        "outputId": "86831457-088d-4f55-e5d1-8fc0d887c440"
      },
      "source": [
        "data.isnull().sum()"
      ],
      "execution_count": null,
      "outputs": [
        {
          "output_type": "execute_result",
          "data": {
            "text/plain": [
              "jobseekAftGradu        0\n",
              "jobseekAftGradu_str    0\n",
              "workWithin1yr          0\n",
              "workWithin1yr_str      0\n",
              "wishWorkHr             0\n",
              "wishSalary             0\n",
              "JobYNaftGradu          0\n",
              "JobYNaftGradu_str      0\n",
              "wayTolivexpense        0\n",
              "wayTolivexpense_str    0\n",
              "schoolType             0\n",
              "schoolType_str         0\n",
              "majorType              0\n",
              "majorType_str          0\n",
              "majorCate              0\n",
              "majorCate_str          0\n",
              "major                  0\n",
              "major_str              0\n",
              "age                    0\n",
              "internExp              0\n",
              "toeicScore             0\n",
              "tospGrade              0\n",
              "trainingHr             0\n",
              "jobseekYN              0\n",
              "certNum                0\n",
              "mainJobCate            0\n",
              "mainJobCate_str        0\n",
              "midJobCate             0\n",
              "midJobCate_str         0\n",
              "subJobCate             0\n",
              "subJobCate_str         0\n",
              "dtype: int64"
            ]
          },
          "metadata": {
            "tags": []
          },
          "execution_count": 19
        }
      ]
    },
    {
      "cell_type": "code",
      "metadata": {
        "id": "l7gJl4bMK3zw"
      },
      "source": [
        "data1 = data.drop(['jobseekAftGradu_str','workWithin1yr_str','JobYNaftGradu_str','wayTolivexpense_str','schoolType_str','majorType','majorType_str','majorCate_str','major','major_str','mainJobCate_str','midJobCate','midJobCate_str','subJobCate','subJobCate_str'],axis=1)"
      ],
      "execution_count": null,
      "outputs": []
    },
    {
      "cell_type": "code",
      "metadata": {
        "colab": {
          "base_uri": "https://localhost:8080/",
          "height": 204
        },
        "id": "7IozSvJoLn20",
        "outputId": "02e7bdaa-280a-4f8b-9ca7-2c5a3a8fffce"
      },
      "source": [
        "data1.head()"
      ],
      "execution_count": null,
      "outputs": [
        {
          "output_type": "execute_result",
          "data": {
            "text/html": [
              "<div>\n",
              "<style scoped>\n",
              "    .dataframe tbody tr th:only-of-type {\n",
              "        vertical-align: middle;\n",
              "    }\n",
              "\n",
              "    .dataframe tbody tr th {\n",
              "        vertical-align: top;\n",
              "    }\n",
              "\n",
              "    .dataframe thead th {\n",
              "        text-align: right;\n",
              "    }\n",
              "</style>\n",
              "<table border=\"1\" class=\"dataframe\">\n",
              "  <thead>\n",
              "    <tr style=\"text-align: right;\">\n",
              "      <th></th>\n",
              "      <th>jobseekAftGradu</th>\n",
              "      <th>workWithin1yr</th>\n",
              "      <th>wishWorkHr</th>\n",
              "      <th>wishSalary</th>\n",
              "      <th>JobYNaftGradu</th>\n",
              "      <th>wayTolivexpense</th>\n",
              "      <th>schoolType</th>\n",
              "      <th>majorCate</th>\n",
              "      <th>age</th>\n",
              "      <th>internExp</th>\n",
              "      <th>toeicScore</th>\n",
              "      <th>tospGrade</th>\n",
              "      <th>trainingHr</th>\n",
              "      <th>jobseekYN</th>\n",
              "      <th>certNum</th>\n",
              "      <th>mainJobCate</th>\n",
              "    </tr>\n",
              "  </thead>\n",
              "  <tbody>\n",
              "    <tr>\n",
              "      <th>0</th>\n",
              "      <td>2</td>\n",
              "      <td>2</td>\n",
              "      <td>0</td>\n",
              "      <td>0</td>\n",
              "      <td>2</td>\n",
              "      <td>1</td>\n",
              "      <td>1</td>\n",
              "      <td>1</td>\n",
              "      <td>23</td>\n",
              "      <td>0</td>\n",
              "      <td>0</td>\n",
              "      <td>0</td>\n",
              "      <td>0</td>\n",
              "      <td>1</td>\n",
              "      <td>0</td>\n",
              "      <td>6</td>\n",
              "    </tr>\n",
              "    <tr>\n",
              "      <th>1</th>\n",
              "      <td>1</td>\n",
              "      <td>2</td>\n",
              "      <td>3</td>\n",
              "      <td>2400</td>\n",
              "      <td>2</td>\n",
              "      <td>-1</td>\n",
              "      <td>1</td>\n",
              "      <td>1</td>\n",
              "      <td>21</td>\n",
              "      <td>0</td>\n",
              "      <td>0</td>\n",
              "      <td>0</td>\n",
              "      <td>240</td>\n",
              "      <td>1</td>\n",
              "      <td>0</td>\n",
              "      <td>0</td>\n",
              "    </tr>\n",
              "    <tr>\n",
              "      <th>2</th>\n",
              "      <td>2</td>\n",
              "      <td>2</td>\n",
              "      <td>0</td>\n",
              "      <td>0</td>\n",
              "      <td>2</td>\n",
              "      <td>3</td>\n",
              "      <td>1</td>\n",
              "      <td>1</td>\n",
              "      <td>21</td>\n",
              "      <td>0</td>\n",
              "      <td>800</td>\n",
              "      <td>0</td>\n",
              "      <td>0</td>\n",
              "      <td>0</td>\n",
              "      <td>1</td>\n",
              "      <td>3</td>\n",
              "    </tr>\n",
              "    <tr>\n",
              "      <th>3</th>\n",
              "      <td>2</td>\n",
              "      <td>2</td>\n",
              "      <td>0</td>\n",
              "      <td>0</td>\n",
              "      <td>2</td>\n",
              "      <td>1</td>\n",
              "      <td>1</td>\n",
              "      <td>1</td>\n",
              "      <td>25</td>\n",
              "      <td>0</td>\n",
              "      <td>0</td>\n",
              "      <td>0</td>\n",
              "      <td>0</td>\n",
              "      <td>0</td>\n",
              "      <td>0</td>\n",
              "      <td>6</td>\n",
              "    </tr>\n",
              "    <tr>\n",
              "      <th>4</th>\n",
              "      <td>2</td>\n",
              "      <td>2</td>\n",
              "      <td>0</td>\n",
              "      <td>0</td>\n",
              "      <td>2</td>\n",
              "      <td>1</td>\n",
              "      <td>1</td>\n",
              "      <td>1</td>\n",
              "      <td>21</td>\n",
              "      <td>0</td>\n",
              "      <td>0</td>\n",
              "      <td>0</td>\n",
              "      <td>0</td>\n",
              "      <td>1</td>\n",
              "      <td>1</td>\n",
              "      <td>7</td>\n",
              "    </tr>\n",
              "  </tbody>\n",
              "</table>\n",
              "</div>"
            ],
            "text/plain": [
              "   jobseekAftGradu  workWithin1yr  wishWorkHr  ...  jobseekYN  certNum  mainJobCate\n",
              "0                2              2           0  ...          1        0            6\n",
              "1                1              2           3  ...          1        0            0\n",
              "2                2              2           0  ...          0        1            3\n",
              "3                2              2           0  ...          0        0            6\n",
              "4                2              2           0  ...          1        1            7\n",
              "\n",
              "[5 rows x 16 columns]"
            ]
          },
          "metadata": {
            "tags": []
          },
          "execution_count": 6
        }
      ]
    },
    {
      "cell_type": "code",
      "metadata": {
        "id": "mJoSYLgAecqg"
      },
      "source": [
        ""
      ],
      "execution_count": null,
      "outputs": []
    },
    {
      "cell_type": "code",
      "metadata": {
        "colab": {
          "base_uri": "https://localhost:8080/",
          "height": 520
        },
        "id": "6OX-t_UeOGhU",
        "outputId": "e095ab31-6ea0-4cc8-d4eb-cc3f58effec8"
      },
      "source": [
        "data1.corr()"
      ],
      "execution_count": null,
      "outputs": [
        {
          "output_type": "execute_result",
          "data": {
            "text/html": [
              "<div>\n",
              "<style scoped>\n",
              "    .dataframe tbody tr th:only-of-type {\n",
              "        vertical-align: middle;\n",
              "    }\n",
              "\n",
              "    .dataframe tbody tr th {\n",
              "        vertical-align: top;\n",
              "    }\n",
              "\n",
              "    .dataframe thead th {\n",
              "        text-align: right;\n",
              "    }\n",
              "</style>\n",
              "<table border=\"1\" class=\"dataframe\">\n",
              "  <thead>\n",
              "    <tr style=\"text-align: right;\">\n",
              "      <th></th>\n",
              "      <th>jobseekAftGradu</th>\n",
              "      <th>workWithin1yr</th>\n",
              "      <th>wishWorkHr</th>\n",
              "      <th>wishSalary</th>\n",
              "      <th>JobYNaftGradu</th>\n",
              "      <th>wayTolivexpense</th>\n",
              "      <th>schoolType</th>\n",
              "      <th>majorCate</th>\n",
              "      <th>age</th>\n",
              "      <th>internExp</th>\n",
              "      <th>toeicScore</th>\n",
              "      <th>tospGrade</th>\n",
              "      <th>jobseekYN</th>\n",
              "      <th>certNum</th>\n",
              "      <th>mainJobCate</th>\n",
              "    </tr>\n",
              "  </thead>\n",
              "  <tbody>\n",
              "    <tr>\n",
              "      <th>jobseekAftGradu</th>\n",
              "      <td>1.000000</td>\n",
              "      <td>0.590611</td>\n",
              "      <td>-0.557803</td>\n",
              "      <td>-0.492292</td>\n",
              "      <td>0.206761</td>\n",
              "      <td>0.413069</td>\n",
              "      <td>-0.000098</td>\n",
              "      <td>0.020261</td>\n",
              "      <td>0.039478</td>\n",
              "      <td>0.078706</td>\n",
              "      <td>-0.018634</td>\n",
              "      <td>-0.003876</td>\n",
              "      <td>-0.047801</td>\n",
              "      <td>-0.017914</td>\n",
              "      <td>0.264452</td>\n",
              "    </tr>\n",
              "    <tr>\n",
              "      <th>workWithin1yr</th>\n",
              "      <td>0.590611</td>\n",
              "      <td>1.000000</td>\n",
              "      <td>-0.849883</td>\n",
              "      <td>-0.770728</td>\n",
              "      <td>0.174078</td>\n",
              "      <td>0.604614</td>\n",
              "      <td>-0.003497</td>\n",
              "      <td>0.020851</td>\n",
              "      <td>0.050639</td>\n",
              "      <td>0.115203</td>\n",
              "      <td>-0.001360</td>\n",
              "      <td>0.000287</td>\n",
              "      <td>-0.001145</td>\n",
              "      <td>0.015523</td>\n",
              "      <td>0.387083</td>\n",
              "    </tr>\n",
              "    <tr>\n",
              "      <th>wishWorkHr</th>\n",
              "      <td>-0.557803</td>\n",
              "      <td>-0.849883</td>\n",
              "      <td>1.000000</td>\n",
              "      <td>0.913073</td>\n",
              "      <td>-0.152998</td>\n",
              "      <td>-0.671703</td>\n",
              "      <td>0.000486</td>\n",
              "      <td>-0.012744</td>\n",
              "      <td>-0.054655</td>\n",
              "      <td>-0.127987</td>\n",
              "      <td>0.013012</td>\n",
              "      <td>-0.012815</td>\n",
              "      <td>-0.040206</td>\n",
              "      <td>-0.044043</td>\n",
              "      <td>-0.430034</td>\n",
              "    </tr>\n",
              "    <tr>\n",
              "      <th>wishSalary</th>\n",
              "      <td>-0.492292</td>\n",
              "      <td>-0.770728</td>\n",
              "      <td>0.913073</td>\n",
              "      <td>1.000000</td>\n",
              "      <td>-0.128918</td>\n",
              "      <td>-0.645559</td>\n",
              "      <td>0.023434</td>\n",
              "      <td>0.016316</td>\n",
              "      <td>-0.049686</td>\n",
              "      <td>-0.123005</td>\n",
              "      <td>0.037945</td>\n",
              "      <td>-0.002782</td>\n",
              "      <td>-0.037623</td>\n",
              "      <td>-0.056088</td>\n",
              "      <td>-0.413296</td>\n",
              "    </tr>\n",
              "    <tr>\n",
              "      <th>JobYNaftGradu</th>\n",
              "      <td>0.206761</td>\n",
              "      <td>0.174078</td>\n",
              "      <td>-0.152998</td>\n",
              "      <td>-0.128918</td>\n",
              "      <td>1.000000</td>\n",
              "      <td>0.250469</td>\n",
              "      <td>0.040393</td>\n",
              "      <td>0.062718</td>\n",
              "      <td>0.081708</td>\n",
              "      <td>0.085138</td>\n",
              "      <td>-0.000162</td>\n",
              "      <td>-0.007591</td>\n",
              "      <td>-0.073747</td>\n",
              "      <td>-0.051886</td>\n",
              "      <td>0.112625</td>\n",
              "    </tr>\n",
              "    <tr>\n",
              "      <th>wayTolivexpense</th>\n",
              "      <td>0.413069</td>\n",
              "      <td>0.604614</td>\n",
              "      <td>-0.671703</td>\n",
              "      <td>-0.645559</td>\n",
              "      <td>0.250469</td>\n",
              "      <td>1.000000</td>\n",
              "      <td>0.008934</td>\n",
              "      <td>0.021771</td>\n",
              "      <td>0.032834</td>\n",
              "      <td>0.139624</td>\n",
              "      <td>-0.029013</td>\n",
              "      <td>-0.013595</td>\n",
              "      <td>-0.024512</td>\n",
              "      <td>0.011225</td>\n",
              "      <td>0.525301</td>\n",
              "    </tr>\n",
              "    <tr>\n",
              "      <th>schoolType</th>\n",
              "      <td>-0.000098</td>\n",
              "      <td>-0.003497</td>\n",
              "      <td>0.000486</td>\n",
              "      <td>0.023434</td>\n",
              "      <td>0.040393</td>\n",
              "      <td>0.008934</td>\n",
              "      <td>1.000000</td>\n",
              "      <td>0.663965</td>\n",
              "      <td>0.016855</td>\n",
              "      <td>0.013671</td>\n",
              "      <td>0.227947</td>\n",
              "      <td>0.099793</td>\n",
              "      <td>0.088792</td>\n",
              "      <td>-0.067994</td>\n",
              "      <td>-0.155942</td>\n",
              "    </tr>\n",
              "    <tr>\n",
              "      <th>majorCate</th>\n",
              "      <td>0.020261</td>\n",
              "      <td>0.020851</td>\n",
              "      <td>-0.012744</td>\n",
              "      <td>0.016316</td>\n",
              "      <td>0.062718</td>\n",
              "      <td>0.021771</td>\n",
              "      <td>0.663965</td>\n",
              "      <td>1.000000</td>\n",
              "      <td>0.002800</td>\n",
              "      <td>0.013992</td>\n",
              "      <td>0.195381</td>\n",
              "      <td>0.085253</td>\n",
              "      <td>0.056325</td>\n",
              "      <td>-0.064330</td>\n",
              "      <td>-0.109489</td>\n",
              "    </tr>\n",
              "    <tr>\n",
              "      <th>age</th>\n",
              "      <td>0.039478</td>\n",
              "      <td>0.050639</td>\n",
              "      <td>-0.054655</td>\n",
              "      <td>-0.049686</td>\n",
              "      <td>0.081708</td>\n",
              "      <td>0.032834</td>\n",
              "      <td>0.016855</td>\n",
              "      <td>0.002800</td>\n",
              "      <td>1.000000</td>\n",
              "      <td>-0.018509</td>\n",
              "      <td>-0.031131</td>\n",
              "      <td>-0.004366</td>\n",
              "      <td>-0.086278</td>\n",
              "      <td>0.024569</td>\n",
              "      <td>0.045411</td>\n",
              "    </tr>\n",
              "    <tr>\n",
              "      <th>internExp</th>\n",
              "      <td>0.078706</td>\n",
              "      <td>0.115203</td>\n",
              "      <td>-0.127987</td>\n",
              "      <td>-0.123005</td>\n",
              "      <td>0.085138</td>\n",
              "      <td>0.139624</td>\n",
              "      <td>0.013671</td>\n",
              "      <td>0.013992</td>\n",
              "      <td>-0.018509</td>\n",
              "      <td>1.000000</td>\n",
              "      <td>0.051621</td>\n",
              "      <td>0.033603</td>\n",
              "      <td>0.060472</td>\n",
              "      <td>-0.006254</td>\n",
              "      <td>0.085887</td>\n",
              "    </tr>\n",
              "    <tr>\n",
              "      <th>toeicScore</th>\n",
              "      <td>-0.018634</td>\n",
              "      <td>-0.001360</td>\n",
              "      <td>0.013012</td>\n",
              "      <td>0.037945</td>\n",
              "      <td>-0.000162</td>\n",
              "      <td>-0.029013</td>\n",
              "      <td>0.227947</td>\n",
              "      <td>0.195381</td>\n",
              "      <td>-0.031131</td>\n",
              "      <td>0.051621</td>\n",
              "      <td>1.000000</td>\n",
              "      <td>0.229939</td>\n",
              "      <td>0.174466</td>\n",
              "      <td>0.009143</td>\n",
              "      <td>-0.113710</td>\n",
              "    </tr>\n",
              "    <tr>\n",
              "      <th>tospGrade</th>\n",
              "      <td>-0.003876</td>\n",
              "      <td>0.000287</td>\n",
              "      <td>-0.012815</td>\n",
              "      <td>-0.002782</td>\n",
              "      <td>-0.007591</td>\n",
              "      <td>-0.013595</td>\n",
              "      <td>0.099793</td>\n",
              "      <td>0.085253</td>\n",
              "      <td>-0.004366</td>\n",
              "      <td>0.033603</td>\n",
              "      <td>0.229939</td>\n",
              "      <td>1.000000</td>\n",
              "      <td>0.127142</td>\n",
              "      <td>0.025461</td>\n",
              "      <td>-0.049991</td>\n",
              "    </tr>\n",
              "    <tr>\n",
              "      <th>jobseekYN</th>\n",
              "      <td>-0.047801</td>\n",
              "      <td>-0.001145</td>\n",
              "      <td>-0.040206</td>\n",
              "      <td>-0.037623</td>\n",
              "      <td>-0.073747</td>\n",
              "      <td>-0.024512</td>\n",
              "      <td>0.088792</td>\n",
              "      <td>0.056325</td>\n",
              "      <td>-0.086278</td>\n",
              "      <td>0.060472</td>\n",
              "      <td>0.174466</td>\n",
              "      <td>0.127142</td>\n",
              "      <td>1.000000</td>\n",
              "      <td>0.119315</td>\n",
              "      <td>-0.035205</td>\n",
              "    </tr>\n",
              "    <tr>\n",
              "      <th>certNum</th>\n",
              "      <td>-0.017914</td>\n",
              "      <td>0.015523</td>\n",
              "      <td>-0.044043</td>\n",
              "      <td>-0.056088</td>\n",
              "      <td>-0.051886</td>\n",
              "      <td>0.011225</td>\n",
              "      <td>-0.067994</td>\n",
              "      <td>-0.064330</td>\n",
              "      <td>0.024569</td>\n",
              "      <td>-0.006254</td>\n",
              "      <td>0.009143</td>\n",
              "      <td>0.025461</td>\n",
              "      <td>0.119315</td>\n",
              "      <td>1.000000</td>\n",
              "      <td>0.022176</td>\n",
              "    </tr>\n",
              "    <tr>\n",
              "      <th>mainJobCate</th>\n",
              "      <td>0.264452</td>\n",
              "      <td>0.387083</td>\n",
              "      <td>-0.430034</td>\n",
              "      <td>-0.413296</td>\n",
              "      <td>0.112625</td>\n",
              "      <td>0.525301</td>\n",
              "      <td>-0.155942</td>\n",
              "      <td>-0.109489</td>\n",
              "      <td>0.045411</td>\n",
              "      <td>0.085887</td>\n",
              "      <td>-0.113710</td>\n",
              "      <td>-0.049991</td>\n",
              "      <td>-0.035205</td>\n",
              "      <td>0.022176</td>\n",
              "      <td>1.000000</td>\n",
              "    </tr>\n",
              "  </tbody>\n",
              "</table>\n",
              "</div>"
            ],
            "text/plain": [
              "                 jobseekAftGradu  workWithin1yr  ...   certNum  mainJobCate\n",
              "jobseekAftGradu         1.000000       0.590611  ... -0.017914     0.264452\n",
              "workWithin1yr           0.590611       1.000000  ...  0.015523     0.387083\n",
              "wishWorkHr             -0.557803      -0.849883  ... -0.044043    -0.430034\n",
              "wishSalary             -0.492292      -0.770728  ... -0.056088    -0.413296\n",
              "JobYNaftGradu           0.206761       0.174078  ... -0.051886     0.112625\n",
              "wayTolivexpense         0.413069       0.604614  ...  0.011225     0.525301\n",
              "schoolType             -0.000098      -0.003497  ... -0.067994    -0.155942\n",
              "majorCate               0.020261       0.020851  ... -0.064330    -0.109489\n",
              "age                     0.039478       0.050639  ...  0.024569     0.045411\n",
              "internExp               0.078706       0.115203  ... -0.006254     0.085887\n",
              "toeicScore             -0.018634      -0.001360  ...  0.009143    -0.113710\n",
              "tospGrade              -0.003876       0.000287  ...  0.025461    -0.049991\n",
              "jobseekYN              -0.047801      -0.001145  ...  0.119315    -0.035205\n",
              "certNum                -0.017914       0.015523  ...  1.000000     0.022176\n",
              "mainJobCate             0.264452       0.387083  ...  0.022176     1.000000\n",
              "\n",
              "[15 rows x 15 columns]"
            ]
          },
          "metadata": {
            "tags": []
          },
          "execution_count": 23
        }
      ]
    },
    {
      "cell_type": "code",
      "metadata": {
        "id": "pLQeJM1rLqKu"
      },
      "source": [
        "from sklearn.model_selection import train_test_split\n",
        "from sklearn.linear_model import LinearRegression\n",
        "from sklearn.metrics import mean_squared_error\n",
        "\n",
        "from sklearn.tree import DecisionTreeRegressor\n",
        "from sklearn.ensemble import RandomForestRegressor\n",
        "from sklearn.metrics import accuracy_score\n",
        "\n",
        "from xgboost import XGBRegressor\n",
        "from xgboost import plot_importance"
      ],
      "execution_count": null,
      "outputs": []
    },
    {
      "cell_type": "code",
      "metadata": {
        "colab": {
          "base_uri": "https://localhost:8080/"
        },
        "id": "Yz3YpnWQL0so",
        "outputId": "74e0c452-57c0-4a77-e13f-2d3d1d1fd12b"
      },
      "source": [
        "y_main = data1['mainJobCate']\n",
        "x_main = data1.drop(['mainJobCate'],axis=1)\n",
        "\n",
        "X_train, X_test, y_train, y_test = train_test_split(x_main, y_main, test_size=0.3, random_state=0)\n",
        "dtr = DecisionTreeRegressor(max_depth=3, random_state=12)\n",
        "dtr.fit(X_train, y_train)\n",
        "\n",
        "rfr = RandomForestRegressor(max_depth = 3,random_state=12)\n",
        "rfr.fit(X_train, y_train)\n",
        "\n",
        "xgbr = XGBRegressor(objective='reg:squarederror', max_depth=3, random_state=12)\n",
        "xgbr.fit(X_train, y_train)"
      ],
      "execution_count": null,
      "outputs": [
        {
          "output_type": "execute_result",
          "data": {
            "text/plain": [
              "XGBRegressor(base_score=0.5, booster='gbtree', colsample_bylevel=1,\n",
              "             colsample_bynode=1, colsample_bytree=1, gamma=0,\n",
              "             importance_type='gain', learning_rate=0.1, max_delta_step=0,\n",
              "             max_depth=3, min_child_weight=1, missing=None, n_estimators=100,\n",
              "             n_jobs=1, nthread=None, objective='reg:squarederror',\n",
              "             random_state=12, reg_alpha=0, reg_lambda=1, scale_pos_weight=1,\n",
              "             seed=None, silent=None, subsample=1, verbosity=1)"
            ]
          },
          "metadata": {
            "tags": []
          },
          "execution_count": 24
        }
      ]
    },
    {
      "cell_type": "code",
      "metadata": {
        "colab": {
          "base_uri": "https://localhost:8080/"
        },
        "id": "kTCtuQLNMEC_",
        "outputId": "ef1bc89d-3e98-49d5-debb-5a16881f8068"
      },
      "source": [
        "y_train_pred = dtr.predict(X_train)\n",
        "train_mse = mean_squared_error(y_train, y_train_pred)\n",
        "print(\"Train MSE: %.4f\" % train_mse)\n",
        "\n",
        "y_test_pred = dtr.predict(X_test)\n",
        "test_mse = mean_squared_error(y_test, y_test_pred)\n",
        "print(\"Test MSE: %.4f\" % test_mse)"
      ],
      "execution_count": null,
      "outputs": [
        {
          "output_type": "stream",
          "text": [
            "Train MSE: 4.1280\n",
            "Test MSE: 4.2456\n"
          ],
          "name": "stdout"
        }
      ]
    },
    {
      "cell_type": "code",
      "metadata": {
        "colab": {
          "base_uri": "https://localhost:8080/"
        },
        "id": "PnBIaDNfNu2e",
        "outputId": "c0a9696d-9c02-49b0-e4c6-3309290f6f56"
      },
      "source": [
        "y_train_pred = rfr.predict(X_train)\n",
        "train_mse = mean_squared_error(y_train, y_train_pred)\n",
        "print(\"Train MSE: %.4f\" % train_mse)\n",
        "\n",
        "y_test_pred = rfr.predict(X_test)\n",
        "test_mse = mean_squared_error(y_test, y_test_pred)\n",
        "print(\"Test MSE: %.4f\" % test_mse)\n",
        "\n",
        "y_train_pred = rfr.predict(X_train)"
      ],
      "execution_count": null,
      "outputs": [
        {
          "output_type": "stream",
          "text": [
            "Train MSE: 4.0966\n",
            "Test MSE: 4.2200\n"
          ],
          "name": "stdout"
        }
      ]
    },
    {
      "cell_type": "code",
      "metadata": {
        "colab": {
          "base_uri": "https://localhost:8080/"
        },
        "id": "S-GKsyoENyn3",
        "outputId": "168cde12-e5cf-4c9e-dec1-6355130cc950"
      },
      "source": [
        "y_train_pred = xgbr.predict(X_train)\n",
        "train_mse = mean_squared_error(y_train, y_train_pred)\n",
        "print(\"Train MSE: %.4f\" % train_mse)\n",
        "\n",
        "y_test_pred = xgbr.predict(X_test)\n",
        "test_mse = mean_squared_error(y_test, y_test_pred)\n",
        "print(\"Test MSE: %.4f\" % test_mse)\n"
      ],
      "execution_count": null,
      "outputs": [
        {
          "output_type": "stream",
          "text": [
            "Train MSE: 3.8090\n",
            "Test MSE: 4.0036\n"
          ],
          "name": "stdout"
        }
      ]
    },
    {
      "cell_type": "markdown",
      "metadata": {
        "id": "RVWwz2p5PktM"
      },
      "source": [
        "mid"
      ]
    },
    {
      "cell_type": "code",
      "metadata": {
        "id": "mtwk8jm1PogY"
      },
      "source": [
        "data2 = data.drop(['jobseekAftGradu_str','workWithin1yr_str','JobYNaftGradu_str','wayTolivexpense_str','schoolType_str','majorType','majorType_str','majorCate_str','major','major_str','mainJobCate_str','mainJobCate','midJobCate_str','subJobCate','subJobCate_str'],axis=1)"
      ],
      "execution_count": null,
      "outputs": []
    },
    {
      "cell_type": "code",
      "metadata": {
        "id": "hCNSDm8KfQYL",
        "colab": {
          "base_uri": "https://localhost:8080/"
        },
        "outputId": "6ea2614e-85e2-40c8-fbd3-60532661fdf0"
      },
      "source": [
        "data2.columns"
      ],
      "execution_count": null,
      "outputs": [
        {
          "output_type": "execute_result",
          "data": {
            "text/plain": [
              "Index(['jobseekAftGradu', 'workWithin1yr', 'wishWorkHr', 'wishSalary',\n",
              "       'JobYNaftGradu', 'wayTolivexpense', 'schoolType', 'majorCate', 'age',\n",
              "       'internExp', 'toeicScore', 'tospGrade', 'trainingHr', 'jobseekYN',\n",
              "       'certNum', 'midJobCate'],\n",
              "      dtype='object')"
            ]
          },
          "metadata": {
            "tags": []
          },
          "execution_count": 22
        }
      ]
    },
    {
      "cell_type": "code",
      "metadata": {
        "colab": {
          "base_uri": "https://localhost:8080/"
        },
        "id": "yBXLtgbhPmMf",
        "outputId": "3afcbfd5-7daf-4c2f-c501-653a98f8c269"
      },
      "source": [
        "y_main = data2['midJobCate']\n",
        "x_main = data2.drop(['midJobCate'],axis=1)\n",
        "\n",
        "X_train, X_test, y_train, y_test = train_test_split(x_main, y_main, test_size=0.3, random_state=0)\n",
        "dtr = DecisionTreeRegressor(max_depth=3, random_state=12)\n",
        "dtr.fit(X_train, y_train)\n",
        "\n",
        "rfr = RandomForestRegressor(max_depth = 3,random_state=12)\n",
        "rfr.fit(X_train, y_train)\n",
        "\n",
        "xgbr = XGBRegressor(objective='reg:squarederror', max_depth=3, random_state=12)\n",
        "xgbr.fit(X_train, y_train)"
      ],
      "execution_count": null,
      "outputs": [
        {
          "output_type": "execute_result",
          "data": {
            "text/plain": [
              "XGBRegressor(base_score=0.5, booster='gbtree', colsample_bylevel=1,\n",
              "             colsample_bynode=1, colsample_bytree=1, gamma=0,\n",
              "             importance_type='gain', learning_rate=0.1, max_delta_step=0,\n",
              "             max_depth=3, min_child_weight=1, missing=None, n_estimators=100,\n",
              "             n_jobs=1, nthread=None, objective='reg:squarederror',\n",
              "             random_state=12, reg_alpha=0, reg_lambda=1, scale_pos_weight=1,\n",
              "             seed=None, silent=None, subsample=1, verbosity=1)"
            ]
          },
          "metadata": {
            "tags": []
          },
          "execution_count": 23
        }
      ]
    },
    {
      "cell_type": "code",
      "metadata": {
        "colab": {
          "base_uri": "https://localhost:8080/"
        },
        "id": "4hWFMmGEP1gQ",
        "outputId": "d3a25d16-b298-4545-f06a-a016545a2abe"
      },
      "source": [
        "y_train_pred = dtr.predict(X_train)\n",
        "train_mse = mean_squared_error(y_train, y_train_pred)\n",
        "print(\"Train MSE: %.4f\" % train_mse)\n",
        "\n",
        "y_test_pred = dtr.predict(X_test)\n",
        "test_mse = mean_squared_error(y_test, y_test_pred)\n",
        "print(\"Test MSE: %.4f\" % test_mse)"
      ],
      "execution_count": null,
      "outputs": [
        {
          "output_type": "stream",
          "text": [
            "Train MSE: 45.6006\n",
            "Test MSE: 46.5201\n"
          ],
          "name": "stdout"
        }
      ]
    },
    {
      "cell_type": "code",
      "metadata": {
        "colab": {
          "base_uri": "https://localhost:8080/"
        },
        "id": "GtLAGzrPP7JT",
        "outputId": "d8d6c3e0-c2e8-48f1-d06e-e07481e343c3"
      },
      "source": [
        "y_train_pred = rfr.predict(X_train)\n",
        "train_mse = mean_squared_error(y_train, y_train_pred)\n",
        "print(\"Train MSE: %.4f\" % train_mse)\n",
        "\n",
        "y_test_pred = rfr.predict(X_test)\n",
        "test_mse = mean_squared_error(y_test, y_test_pred)\n",
        "print(\"Test MSE: %.4f\" % test_mse)\n",
        "\n",
        "y_train_pred = rfr.predict(X_train)"
      ],
      "execution_count": null,
      "outputs": [
        {
          "output_type": "stream",
          "text": [
            "Train MSE: 45.1510\n",
            "Test MSE: 46.0387\n"
          ],
          "name": "stdout"
        }
      ]
    },
    {
      "cell_type": "code",
      "metadata": {
        "colab": {
          "base_uri": "https://localhost:8080/"
        },
        "id": "EcgE9CDqP9ed",
        "outputId": "8214f548-5e99-4a73-b660-020fa5fed2f1"
      },
      "source": [
        "y_train_pred = xgbr.predict(X_train)\n",
        "train_mse = mean_squared_error(y_train, y_train_pred)\n",
        "print(\"Train MSE: %.4f\" % train_mse)\n",
        "\n",
        "y_test_pred = xgbr.predict(X_test)\n",
        "test_mse = mean_squared_error(y_test, y_test_pred)\n",
        "print(\"Test MSE: %.4f\" % test_mse)"
      ],
      "execution_count": null,
      "outputs": [
        {
          "output_type": "stream",
          "text": [
            "Train MSE: 42.1157\n",
            "Test MSE: 43.8149\n"
          ],
          "name": "stdout"
        }
      ]
    },
    {
      "cell_type": "code",
      "metadata": {
        "id": "F6P4aJhZQafX"
      },
      "source": [
        "from lightgbm import LGBMRegressor"
      ],
      "execution_count": null,
      "outputs": []
    },
    {
      "cell_type": "code",
      "metadata": {
        "colab": {
          "base_uri": "https://localhost:8080/"
        },
        "id": "pRIx7yIwQT8m",
        "outputId": "b200bdfb-c966-4e4a-a766-1b04dac7d295"
      },
      "source": [
        "lgbm_reg = LGBMRegressor( max_depth=3, random_state=12)\n",
        "lgbm_reg.fit(X_train, y_train)"
      ],
      "execution_count": null,
      "outputs": [
        {
          "output_type": "execute_result",
          "data": {
            "text/plain": [
              "LGBMRegressor(boosting_type='gbdt', class_weight=None, colsample_bytree=1.0,\n",
              "              importance_type='split', learning_rate=0.1, max_depth=3,\n",
              "              min_child_samples=20, min_child_weight=0.001, min_split_gain=0.0,\n",
              "              n_estimators=100, n_jobs=-1, num_leaves=31, objective=None,\n",
              "              random_state=12, reg_alpha=0.0, reg_lambda=0.0, silent=True,\n",
              "              subsample=1.0, subsample_for_bin=200000, subsample_freq=0)"
            ]
          },
          "metadata": {
            "tags": []
          },
          "execution_count": 28
        }
      ]
    },
    {
      "cell_type": "code",
      "metadata": {
        "colab": {
          "base_uri": "https://localhost:8080/"
        },
        "id": "y2lMok6WQ_zy",
        "outputId": "8d2f6cce-0921-4273-e020-4b3a9bd74b5a"
      },
      "source": [
        "y_train_pred = lgbm_clf.predict(X_train)\n",
        "train_mse = mean_squared_error(y_train, y_train_pred)\n",
        "print(\"Train MSE: %.4f\" % train_mse)\n",
        "\n",
        "y_test_pred = lgbm_clf.predict(X_test)\n",
        "test_mse = mean_squared_error(y_test, y_test_pred)\n",
        "print(\"Test MSE: %.4f\" % test_mse)"
      ],
      "execution_count": null,
      "outputs": [
        {
          "output_type": "stream",
          "text": [
            "Train MSE: 42.2738\n",
            "Test MSE: 43.7043\n"
          ],
          "name": "stdout"
        }
      ]
    },
    {
      "cell_type": "markdown",
      "metadata": {
        "id": "-HNkCDds4A0Q"
      },
      "source": [
        "subjobcate"
      ]
    },
    {
      "cell_type": "code",
      "metadata": {
        "id": "CyE1tWtm55F0"
      },
      "source": [
        "data = pd.read_csv('/content/drive/MyDrive/goms_feature_prep_com.csv')"
      ],
      "execution_count": null,
      "outputs": []
    },
    {
      "cell_type": "code",
      "metadata": {
        "colab": {
          "base_uri": "https://localhost:8080/",
          "height": 292
        },
        "id": "4PImwrur5_QG",
        "outputId": "a26e39b5-7c67-495d-dc6d-3233497b0113"
      },
      "source": [
        "data.head()"
      ],
      "execution_count": null,
      "outputs": [
        {
          "output_type": "execute_result",
          "data": {
            "text/html": [
              "<div>\n",
              "<style scoped>\n",
              "    .dataframe tbody tr th:only-of-type {\n",
              "        vertical-align: middle;\n",
              "    }\n",
              "\n",
              "    .dataframe tbody tr th {\n",
              "        vertical-align: top;\n",
              "    }\n",
              "\n",
              "    .dataframe thead th {\n",
              "        text-align: right;\n",
              "    }\n",
              "</style>\n",
              "<table border=\"1\" class=\"dataframe\">\n",
              "  <thead>\n",
              "    <tr style=\"text-align: right;\">\n",
              "      <th></th>\n",
              "      <th>jobseekAftGradu</th>\n",
              "      <th>jobseekAftGradu_str</th>\n",
              "      <th>workWithin1yr</th>\n",
              "      <th>workWithin1yr_str</th>\n",
              "      <th>wishWorkHr</th>\n",
              "      <th>wishSalary</th>\n",
              "      <th>JobYNaftGradu</th>\n",
              "      <th>JobYNaftGradu_str</th>\n",
              "      <th>wayTolivexpense</th>\n",
              "      <th>wayTolivexpense_str</th>\n",
              "      <th>schoolType</th>\n",
              "      <th>schoolType_str</th>\n",
              "      <th>majorCate</th>\n",
              "      <th>majorCate_str</th>\n",
              "      <th>age</th>\n",
              "      <th>internExp</th>\n",
              "      <th>toeicScore</th>\n",
              "      <th>tospGrade</th>\n",
              "      <th>trainingHr</th>\n",
              "      <th>jobseekYN</th>\n",
              "      <th>certNum</th>\n",
              "      <th>mainJobCate</th>\n",
              "      <th>mainJobCate_str</th>\n",
              "      <th>midJobCate</th>\n",
              "      <th>midJobCate_str</th>\n",
              "      <th>subJobCate</th>\n",
              "      <th>subJobCate_str</th>\n",
              "      <th>jobYN_str</th>\n",
              "      <th>jobYN</th>\n",
              "    </tr>\n",
              "  </thead>\n",
              "  <tbody>\n",
              "    <tr>\n",
              "      <th>0</th>\n",
              "      <td>2</td>\n",
              "      <td>아니오</td>\n",
              "      <td>2</td>\n",
              "      <td>아니오</td>\n",
              "      <td>0</td>\n",
              "      <td>0</td>\n",
              "      <td>2</td>\n",
              "      <td>아니오</td>\n",
              "      <td>1</td>\n",
              "      <td>일자리에서의 근로 소득</td>\n",
              "      <td>1</td>\n",
              "      <td>2~3년제</td>\n",
              "      <td>1</td>\n",
              "      <td>일본어</td>\n",
              "      <td>23</td>\n",
              "      <td>0</td>\n",
              "      <td>0</td>\n",
              "      <td>0</td>\n",
              "      <td>0</td>\n",
              "      <td>1</td>\n",
              "      <td>0</td>\n",
              "      <td>6</td>\n",
              "      <td>미용·여행·숙박·음식·경비·청소직</td>\n",
              "      <td>20</td>\n",
              "      <td>경호·경비직</td>\n",
              "      <td>73</td>\n",
              "      <td>경호·보안종사자</td>\n",
              "      <td>근로자</td>\n",
              "      <td>1</td>\n",
              "    </tr>\n",
              "    <tr>\n",
              "      <th>1</th>\n",
              "      <td>1</td>\n",
              "      <td>예</td>\n",
              "      <td>2</td>\n",
              "      <td>아니오</td>\n",
              "      <td>3</td>\n",
              "      <td>2400</td>\n",
              "      <td>2</td>\n",
              "      <td>아니오</td>\n",
              "      <td>-1</td>\n",
              "      <td>모름/무응답</td>\n",
              "      <td>1</td>\n",
              "      <td>2~3년제</td>\n",
              "      <td>1</td>\n",
              "      <td>일본어</td>\n",
              "      <td>21</td>\n",
              "      <td>0</td>\n",
              "      <td>0</td>\n",
              "      <td>0</td>\n",
              "      <td>240</td>\n",
              "      <td>1</td>\n",
              "      <td>0</td>\n",
              "      <td>0</td>\n",
              "      <td>무직</td>\n",
              "      <td>0</td>\n",
              "      <td>무직</td>\n",
              "      <td>0</td>\n",
              "      <td>무직</td>\n",
              "      <td>무직자</td>\n",
              "      <td>0</td>\n",
              "    </tr>\n",
              "    <tr>\n",
              "      <th>2</th>\n",
              "      <td>2</td>\n",
              "      <td>아니오</td>\n",
              "      <td>2</td>\n",
              "      <td>아니오</td>\n",
              "      <td>0</td>\n",
              "      <td>0</td>\n",
              "      <td>2</td>\n",
              "      <td>아니오</td>\n",
              "      <td>3</td>\n",
              "      <td>가족 친지로부터의 지원</td>\n",
              "      <td>1</td>\n",
              "      <td>2~3년제</td>\n",
              "      <td>1</td>\n",
              "      <td>일본어</td>\n",
              "      <td>21</td>\n",
              "      <td>0</td>\n",
              "      <td>800</td>\n",
              "      <td>0</td>\n",
              "      <td>0</td>\n",
              "      <td>0</td>\n",
              "      <td>1</td>\n",
              "      <td>3</td>\n",
              "      <td>교육·법률·사회복지·경찰·소방직및군인</td>\n",
              "      <td>9</td>\n",
              "      <td>교육직</td>\n",
              "      <td>41</td>\n",
              "      <td>문리·기술·예능강사</td>\n",
              "      <td>근로자</td>\n",
              "      <td>1</td>\n",
              "    </tr>\n",
              "    <tr>\n",
              "      <th>3</th>\n",
              "      <td>2</td>\n",
              "      <td>아니오</td>\n",
              "      <td>2</td>\n",
              "      <td>아니오</td>\n",
              "      <td>0</td>\n",
              "      <td>0</td>\n",
              "      <td>2</td>\n",
              "      <td>아니오</td>\n",
              "      <td>1</td>\n",
              "      <td>일자리에서의 근로 소득</td>\n",
              "      <td>1</td>\n",
              "      <td>2~3년제</td>\n",
              "      <td>1</td>\n",
              "      <td>일본어</td>\n",
              "      <td>25</td>\n",
              "      <td>0</td>\n",
              "      <td>0</td>\n",
              "      <td>0</td>\n",
              "      <td>0</td>\n",
              "      <td>0</td>\n",
              "      <td>0</td>\n",
              "      <td>6</td>\n",
              "      <td>미용·여행·숙박·음식·경비·청소직</td>\n",
              "      <td>18</td>\n",
              "      <td>여행·숙박·오락 서비스직</td>\n",
              "      <td>68</td>\n",
              "      <td>항공기·선박·열차객실승무원</td>\n",
              "      <td>근로자</td>\n",
              "      <td>1</td>\n",
              "    </tr>\n",
              "    <tr>\n",
              "      <th>4</th>\n",
              "      <td>2</td>\n",
              "      <td>아니오</td>\n",
              "      <td>2</td>\n",
              "      <td>아니오</td>\n",
              "      <td>0</td>\n",
              "      <td>0</td>\n",
              "      <td>2</td>\n",
              "      <td>아니오</td>\n",
              "      <td>1</td>\n",
              "      <td>일자리에서의 근로 소득</td>\n",
              "      <td>1</td>\n",
              "      <td>2~3년제</td>\n",
              "      <td>1</td>\n",
              "      <td>일본어</td>\n",
              "      <td>21</td>\n",
              "      <td>0</td>\n",
              "      <td>0</td>\n",
              "      <td>0</td>\n",
              "      <td>0</td>\n",
              "      <td>1</td>\n",
              "      <td>1</td>\n",
              "      <td>7</td>\n",
              "      <td>영업·판매·운전·운송직</td>\n",
              "      <td>23</td>\n",
              "      <td>영업·판매직</td>\n",
              "      <td>82</td>\n",
              "      <td>판매종사자</td>\n",
              "      <td>근로자</td>\n",
              "      <td>1</td>\n",
              "    </tr>\n",
              "  </tbody>\n",
              "</table>\n",
              "</div>"
            ],
            "text/plain": [
              "   jobseekAftGradu jobseekAftGradu_str  ...  jobYN_str jobYN\n",
              "0                2                 아니오  ...        근로자     1\n",
              "1                1                   예  ...        무직자     0\n",
              "2                2                 아니오  ...        근로자     1\n",
              "3                2                 아니오  ...        근로자     1\n",
              "4                2                 아니오  ...        근로자     1\n",
              "\n",
              "[5 rows x 29 columns]"
            ]
          },
          "metadata": {
            "tags": []
          },
          "execution_count": 34
        }
      ]
    },
    {
      "cell_type": "code",
      "metadata": {
        "id": "-o2avO9d4D15"
      },
      "source": [
        "data3 = data.drop(['jobseekAftGradu_str','workWithin1yr_str','JobYNaftGradu_str','wayTolivexpense_str','schoolType_str','majorCate_str','mainJobCate_str','mainJobCate','midJobCate_str','midJobCate','subJobCate_str','jobYN_str','jobYN'],axis=1)"
      ],
      "execution_count": null,
      "outputs": []
    },
    {
      "cell_type": "code",
      "metadata": {
        "colab": {
          "base_uri": "https://localhost:8080/",
          "height": 224
        },
        "id": "eraTMqve6TFE",
        "outputId": "9909cd43-0f1b-4869-abd4-0913df92f40d"
      },
      "source": [
        "data3.head()"
      ],
      "execution_count": null,
      "outputs": [
        {
          "output_type": "execute_result",
          "data": {
            "text/html": [
              "<div>\n",
              "<style scoped>\n",
              "    .dataframe tbody tr th:only-of-type {\n",
              "        vertical-align: middle;\n",
              "    }\n",
              "\n",
              "    .dataframe tbody tr th {\n",
              "        vertical-align: top;\n",
              "    }\n",
              "\n",
              "    .dataframe thead th {\n",
              "        text-align: right;\n",
              "    }\n",
              "</style>\n",
              "<table border=\"1\" class=\"dataframe\">\n",
              "  <thead>\n",
              "    <tr style=\"text-align: right;\">\n",
              "      <th></th>\n",
              "      <th>jobseekAftGradu</th>\n",
              "      <th>workWithin1yr</th>\n",
              "      <th>wishWorkHr</th>\n",
              "      <th>wishSalary</th>\n",
              "      <th>JobYNaftGradu</th>\n",
              "      <th>wayTolivexpense</th>\n",
              "      <th>schoolType</th>\n",
              "      <th>majorCate</th>\n",
              "      <th>age</th>\n",
              "      <th>internExp</th>\n",
              "      <th>toeicScore</th>\n",
              "      <th>tospGrade</th>\n",
              "      <th>trainingHr</th>\n",
              "      <th>jobseekYN</th>\n",
              "      <th>certNum</th>\n",
              "      <th>subJobCate</th>\n",
              "    </tr>\n",
              "  </thead>\n",
              "  <tbody>\n",
              "    <tr>\n",
              "      <th>0</th>\n",
              "      <td>2</td>\n",
              "      <td>2</td>\n",
              "      <td>0</td>\n",
              "      <td>0</td>\n",
              "      <td>2</td>\n",
              "      <td>1</td>\n",
              "      <td>1</td>\n",
              "      <td>1</td>\n",
              "      <td>23</td>\n",
              "      <td>0</td>\n",
              "      <td>0</td>\n",
              "      <td>0</td>\n",
              "      <td>0</td>\n",
              "      <td>1</td>\n",
              "      <td>0</td>\n",
              "      <td>73</td>\n",
              "    </tr>\n",
              "    <tr>\n",
              "      <th>1</th>\n",
              "      <td>1</td>\n",
              "      <td>2</td>\n",
              "      <td>3</td>\n",
              "      <td>2400</td>\n",
              "      <td>2</td>\n",
              "      <td>-1</td>\n",
              "      <td>1</td>\n",
              "      <td>1</td>\n",
              "      <td>21</td>\n",
              "      <td>0</td>\n",
              "      <td>0</td>\n",
              "      <td>0</td>\n",
              "      <td>240</td>\n",
              "      <td>1</td>\n",
              "      <td>0</td>\n",
              "      <td>0</td>\n",
              "    </tr>\n",
              "    <tr>\n",
              "      <th>2</th>\n",
              "      <td>2</td>\n",
              "      <td>2</td>\n",
              "      <td>0</td>\n",
              "      <td>0</td>\n",
              "      <td>2</td>\n",
              "      <td>3</td>\n",
              "      <td>1</td>\n",
              "      <td>1</td>\n",
              "      <td>21</td>\n",
              "      <td>0</td>\n",
              "      <td>800</td>\n",
              "      <td>0</td>\n",
              "      <td>0</td>\n",
              "      <td>0</td>\n",
              "      <td>1</td>\n",
              "      <td>41</td>\n",
              "    </tr>\n",
              "    <tr>\n",
              "      <th>3</th>\n",
              "      <td>2</td>\n",
              "      <td>2</td>\n",
              "      <td>0</td>\n",
              "      <td>0</td>\n",
              "      <td>2</td>\n",
              "      <td>1</td>\n",
              "      <td>1</td>\n",
              "      <td>1</td>\n",
              "      <td>25</td>\n",
              "      <td>0</td>\n",
              "      <td>0</td>\n",
              "      <td>0</td>\n",
              "      <td>0</td>\n",
              "      <td>0</td>\n",
              "      <td>0</td>\n",
              "      <td>68</td>\n",
              "    </tr>\n",
              "    <tr>\n",
              "      <th>4</th>\n",
              "      <td>2</td>\n",
              "      <td>2</td>\n",
              "      <td>0</td>\n",
              "      <td>0</td>\n",
              "      <td>2</td>\n",
              "      <td>1</td>\n",
              "      <td>1</td>\n",
              "      <td>1</td>\n",
              "      <td>21</td>\n",
              "      <td>0</td>\n",
              "      <td>0</td>\n",
              "      <td>0</td>\n",
              "      <td>0</td>\n",
              "      <td>1</td>\n",
              "      <td>1</td>\n",
              "      <td>82</td>\n",
              "    </tr>\n",
              "  </tbody>\n",
              "</table>\n",
              "</div>"
            ],
            "text/plain": [
              "   jobseekAftGradu  workWithin1yr  wishWorkHr  ...  jobseekYN  certNum  subJobCate\n",
              "0                2              2           0  ...          1        0          73\n",
              "1                1              2           3  ...          1        0           0\n",
              "2                2              2           0  ...          0        1          41\n",
              "3                2              2           0  ...          0        0          68\n",
              "4                2              2           0  ...          1        1          82\n",
              "\n",
              "[5 rows x 16 columns]"
            ]
          },
          "metadata": {
            "tags": []
          },
          "execution_count": 42
        }
      ]
    },
    {
      "cell_type": "code",
      "metadata": {
        "colab": {
          "base_uri": "https://localhost:8080/",
          "height": 735
        },
        "id": "beW-SlYJ4RLE",
        "outputId": "a2ee57f0-9238-4a56-9f1f-63cbda6b9810"
      },
      "source": [
        "data3.corr()"
      ],
      "execution_count": null,
      "outputs": [
        {
          "output_type": "execute_result",
          "data": {
            "text/html": [
              "<div>\n",
              "<style scoped>\n",
              "    .dataframe tbody tr th:only-of-type {\n",
              "        vertical-align: middle;\n",
              "    }\n",
              "\n",
              "    .dataframe tbody tr th {\n",
              "        vertical-align: top;\n",
              "    }\n",
              "\n",
              "    .dataframe thead th {\n",
              "        text-align: right;\n",
              "    }\n",
              "</style>\n",
              "<table border=\"1\" class=\"dataframe\">\n",
              "  <thead>\n",
              "    <tr style=\"text-align: right;\">\n",
              "      <th></th>\n",
              "      <th>jobseekAftGradu</th>\n",
              "      <th>workWithin1yr</th>\n",
              "      <th>wishWorkHr</th>\n",
              "      <th>wishSalary</th>\n",
              "      <th>JobYNaftGradu</th>\n",
              "      <th>wayTolivexpense</th>\n",
              "      <th>schoolType</th>\n",
              "      <th>majorCate</th>\n",
              "      <th>age</th>\n",
              "      <th>internExp</th>\n",
              "      <th>toeicScore</th>\n",
              "      <th>tospGrade</th>\n",
              "      <th>trainingHr</th>\n",
              "      <th>jobseekYN</th>\n",
              "      <th>certNum</th>\n",
              "      <th>subJobCate</th>\n",
              "    </tr>\n",
              "  </thead>\n",
              "  <tbody>\n",
              "    <tr>\n",
              "      <th>jobseekAftGradu</th>\n",
              "      <td>1.000000</td>\n",
              "      <td>0.590611</td>\n",
              "      <td>-0.557803</td>\n",
              "      <td>-0.492292</td>\n",
              "      <td>0.206761</td>\n",
              "      <td>0.413069</td>\n",
              "      <td>-0.000098</td>\n",
              "      <td>0.020261</td>\n",
              "      <td>3.947804e-02</td>\n",
              "      <td>0.078706</td>\n",
              "      <td>-0.018634</td>\n",
              "      <td>-0.003876</td>\n",
              "      <td>-7.777381e-03</td>\n",
              "      <td>-0.047801</td>\n",
              "      <td>-0.017914</td>\n",
              "      <td>0.277004</td>\n",
              "    </tr>\n",
              "    <tr>\n",
              "      <th>workWithin1yr</th>\n",
              "      <td>0.590611</td>\n",
              "      <td>1.000000</td>\n",
              "      <td>-0.849883</td>\n",
              "      <td>-0.770728</td>\n",
              "      <td>0.174078</td>\n",
              "      <td>0.604614</td>\n",
              "      <td>-0.003497</td>\n",
              "      <td>0.020851</td>\n",
              "      <td>5.063924e-02</td>\n",
              "      <td>0.115203</td>\n",
              "      <td>-0.001360</td>\n",
              "      <td>0.000287</td>\n",
              "      <td>-3.675813e-03</td>\n",
              "      <td>-0.001145</td>\n",
              "      <td>0.015523</td>\n",
              "      <td>0.405454</td>\n",
              "    </tr>\n",
              "    <tr>\n",
              "      <th>wishWorkHr</th>\n",
              "      <td>-0.557803</td>\n",
              "      <td>-0.849883</td>\n",
              "      <td>1.000000</td>\n",
              "      <td>0.913073</td>\n",
              "      <td>-0.152998</td>\n",
              "      <td>-0.671703</td>\n",
              "      <td>0.000486</td>\n",
              "      <td>-0.012744</td>\n",
              "      <td>-5.465498e-02</td>\n",
              "      <td>-0.127987</td>\n",
              "      <td>0.013012</td>\n",
              "      <td>-0.012815</td>\n",
              "      <td>-9.689973e-03</td>\n",
              "      <td>-0.040206</td>\n",
              "      <td>-0.044043</td>\n",
              "      <td>-0.450444</td>\n",
              "    </tr>\n",
              "    <tr>\n",
              "      <th>wishSalary</th>\n",
              "      <td>-0.492292</td>\n",
              "      <td>-0.770728</td>\n",
              "      <td>0.913073</td>\n",
              "      <td>1.000000</td>\n",
              "      <td>-0.128918</td>\n",
              "      <td>-0.645559</td>\n",
              "      <td>0.023434</td>\n",
              "      <td>0.016316</td>\n",
              "      <td>-4.968564e-02</td>\n",
              "      <td>-0.123005</td>\n",
              "      <td>0.037945</td>\n",
              "      <td>-0.002782</td>\n",
              "      <td>-1.351825e-02</td>\n",
              "      <td>-0.037623</td>\n",
              "      <td>-0.056088</td>\n",
              "      <td>-0.432911</td>\n",
              "    </tr>\n",
              "    <tr>\n",
              "      <th>JobYNaftGradu</th>\n",
              "      <td>0.206761</td>\n",
              "      <td>0.174078</td>\n",
              "      <td>-0.152998</td>\n",
              "      <td>-0.128918</td>\n",
              "      <td>1.000000</td>\n",
              "      <td>0.250469</td>\n",
              "      <td>0.040393</td>\n",
              "      <td>0.062718</td>\n",
              "      <td>8.170759e-02</td>\n",
              "      <td>0.085138</td>\n",
              "      <td>-0.000162</td>\n",
              "      <td>-0.007591</td>\n",
              "      <td>5.807324e-03</td>\n",
              "      <td>-0.073747</td>\n",
              "      <td>-0.051886</td>\n",
              "      <td>0.125040</td>\n",
              "    </tr>\n",
              "    <tr>\n",
              "      <th>wayTolivexpense</th>\n",
              "      <td>0.413069</td>\n",
              "      <td>0.604614</td>\n",
              "      <td>-0.671703</td>\n",
              "      <td>-0.645559</td>\n",
              "      <td>0.250469</td>\n",
              "      <td>1.000000</td>\n",
              "      <td>0.008934</td>\n",
              "      <td>0.021771</td>\n",
              "      <td>3.283368e-02</td>\n",
              "      <td>0.139624</td>\n",
              "      <td>-0.029013</td>\n",
              "      <td>-0.013595</td>\n",
              "      <td>-2.350351e-03</td>\n",
              "      <td>-0.024512</td>\n",
              "      <td>0.011225</td>\n",
              "      <td>0.550590</td>\n",
              "    </tr>\n",
              "    <tr>\n",
              "      <th>schoolType</th>\n",
              "      <td>-0.000098</td>\n",
              "      <td>-0.003497</td>\n",
              "      <td>0.000486</td>\n",
              "      <td>0.023434</td>\n",
              "      <td>0.040393</td>\n",
              "      <td>0.008934</td>\n",
              "      <td>1.000000</td>\n",
              "      <td>0.663965</td>\n",
              "      <td>1.685533e-02</td>\n",
              "      <td>0.013671</td>\n",
              "      <td>0.227947</td>\n",
              "      <td>0.099793</td>\n",
              "      <td>2.674742e-02</td>\n",
              "      <td>0.088792</td>\n",
              "      <td>-0.067994</td>\n",
              "      <td>-0.155924</td>\n",
              "    </tr>\n",
              "    <tr>\n",
              "      <th>majorCate</th>\n",
              "      <td>0.020261</td>\n",
              "      <td>0.020851</td>\n",
              "      <td>-0.012744</td>\n",
              "      <td>0.016316</td>\n",
              "      <td>0.062718</td>\n",
              "      <td>0.021771</td>\n",
              "      <td>0.663965</td>\n",
              "      <td>1.000000</td>\n",
              "      <td>2.799559e-03</td>\n",
              "      <td>0.013992</td>\n",
              "      <td>0.195381</td>\n",
              "      <td>0.085253</td>\n",
              "      <td>2.943673e-02</td>\n",
              "      <td>0.056325</td>\n",
              "      <td>-0.064330</td>\n",
              "      <td>-0.107178</td>\n",
              "    </tr>\n",
              "    <tr>\n",
              "      <th>age</th>\n",
              "      <td>0.039478</td>\n",
              "      <td>0.050639</td>\n",
              "      <td>-0.054655</td>\n",
              "      <td>-0.049686</td>\n",
              "      <td>0.081708</td>\n",
              "      <td>0.032834</td>\n",
              "      <td>0.016855</td>\n",
              "      <td>0.002800</td>\n",
              "      <td>1.000000e+00</td>\n",
              "      <td>-0.018509</td>\n",
              "      <td>-0.031131</td>\n",
              "      <td>-0.004366</td>\n",
              "      <td>5.021414e-07</td>\n",
              "      <td>-0.086278</td>\n",
              "      <td>0.024569</td>\n",
              "      <td>0.048944</td>\n",
              "    </tr>\n",
              "    <tr>\n",
              "      <th>internExp</th>\n",
              "      <td>0.078706</td>\n",
              "      <td>0.115203</td>\n",
              "      <td>-0.127987</td>\n",
              "      <td>-0.123005</td>\n",
              "      <td>0.085138</td>\n",
              "      <td>0.139624</td>\n",
              "      <td>0.013671</td>\n",
              "      <td>0.013992</td>\n",
              "      <td>-1.850914e-02</td>\n",
              "      <td>1.000000</td>\n",
              "      <td>0.051621</td>\n",
              "      <td>0.033603</td>\n",
              "      <td>1.371924e-02</td>\n",
              "      <td>0.060472</td>\n",
              "      <td>-0.006254</td>\n",
              "      <td>0.083456</td>\n",
              "    </tr>\n",
              "    <tr>\n",
              "      <th>toeicScore</th>\n",
              "      <td>-0.018634</td>\n",
              "      <td>-0.001360</td>\n",
              "      <td>0.013012</td>\n",
              "      <td>0.037945</td>\n",
              "      <td>-0.000162</td>\n",
              "      <td>-0.029013</td>\n",
              "      <td>0.227947</td>\n",
              "      <td>0.195381</td>\n",
              "      <td>-3.113142e-02</td>\n",
              "      <td>0.051621</td>\n",
              "      <td>1.000000</td>\n",
              "      <td>0.229939</td>\n",
              "      <td>3.659690e-02</td>\n",
              "      <td>0.174466</td>\n",
              "      <td>0.009143</td>\n",
              "      <td>-0.120862</td>\n",
              "    </tr>\n",
              "    <tr>\n",
              "      <th>tospGrade</th>\n",
              "      <td>-0.003876</td>\n",
              "      <td>0.000287</td>\n",
              "      <td>-0.012815</td>\n",
              "      <td>-0.002782</td>\n",
              "      <td>-0.007591</td>\n",
              "      <td>-0.013595</td>\n",
              "      <td>0.099793</td>\n",
              "      <td>0.085253</td>\n",
              "      <td>-4.366174e-03</td>\n",
              "      <td>0.033603</td>\n",
              "      <td>0.229939</td>\n",
              "      <td>1.000000</td>\n",
              "      <td>5.607699e-02</td>\n",
              "      <td>0.127142</td>\n",
              "      <td>0.025461</td>\n",
              "      <td>-0.052452</td>\n",
              "    </tr>\n",
              "    <tr>\n",
              "      <th>trainingHr</th>\n",
              "      <td>-0.007777</td>\n",
              "      <td>-0.003676</td>\n",
              "      <td>-0.009690</td>\n",
              "      <td>-0.013518</td>\n",
              "      <td>0.005807</td>\n",
              "      <td>-0.002350</td>\n",
              "      <td>0.026747</td>\n",
              "      <td>0.029437</td>\n",
              "      <td>5.021414e-07</td>\n",
              "      <td>0.013719</td>\n",
              "      <td>0.036597</td>\n",
              "      <td>0.056077</td>\n",
              "      <td>1.000000e+00</td>\n",
              "      <td>0.097540</td>\n",
              "      <td>0.040336</td>\n",
              "      <td>-0.009677</td>\n",
              "    </tr>\n",
              "    <tr>\n",
              "      <th>jobseekYN</th>\n",
              "      <td>-0.047801</td>\n",
              "      <td>-0.001145</td>\n",
              "      <td>-0.040206</td>\n",
              "      <td>-0.037623</td>\n",
              "      <td>-0.073747</td>\n",
              "      <td>-0.024512</td>\n",
              "      <td>0.088792</td>\n",
              "      <td>0.056325</td>\n",
              "      <td>-8.627771e-02</td>\n",
              "      <td>0.060472</td>\n",
              "      <td>0.174466</td>\n",
              "      <td>0.127142</td>\n",
              "      <td>9.754047e-02</td>\n",
              "      <td>1.000000</td>\n",
              "      <td>0.119315</td>\n",
              "      <td>-0.040965</td>\n",
              "    </tr>\n",
              "    <tr>\n",
              "      <th>certNum</th>\n",
              "      <td>-0.017914</td>\n",
              "      <td>0.015523</td>\n",
              "      <td>-0.044043</td>\n",
              "      <td>-0.056088</td>\n",
              "      <td>-0.051886</td>\n",
              "      <td>0.011225</td>\n",
              "      <td>-0.067994</td>\n",
              "      <td>-0.064330</td>\n",
              "      <td>2.456876e-02</td>\n",
              "      <td>-0.006254</td>\n",
              "      <td>0.009143</td>\n",
              "      <td>0.025461</td>\n",
              "      <td>4.033582e-02</td>\n",
              "      <td>0.119315</td>\n",
              "      <td>1.000000</td>\n",
              "      <td>0.029902</td>\n",
              "    </tr>\n",
              "    <tr>\n",
              "      <th>subJobCate</th>\n",
              "      <td>0.277004</td>\n",
              "      <td>0.405454</td>\n",
              "      <td>-0.450444</td>\n",
              "      <td>-0.432911</td>\n",
              "      <td>0.125040</td>\n",
              "      <td>0.550590</td>\n",
              "      <td>-0.155924</td>\n",
              "      <td>-0.107178</td>\n",
              "      <td>4.894359e-02</td>\n",
              "      <td>0.083456</td>\n",
              "      <td>-0.120862</td>\n",
              "      <td>-0.052452</td>\n",
              "      <td>-9.677099e-03</td>\n",
              "      <td>-0.040965</td>\n",
              "      <td>0.029902</td>\n",
              "      <td>1.000000</td>\n",
              "    </tr>\n",
              "  </tbody>\n",
              "</table>\n",
              "</div>"
            ],
            "text/plain": [
              "                 jobseekAftGradu  workWithin1yr  ...   certNum  subJobCate\n",
              "jobseekAftGradu         1.000000       0.590611  ... -0.017914    0.277004\n",
              "workWithin1yr           0.590611       1.000000  ...  0.015523    0.405454\n",
              "wishWorkHr             -0.557803      -0.849883  ... -0.044043   -0.450444\n",
              "wishSalary             -0.492292      -0.770728  ... -0.056088   -0.432911\n",
              "JobYNaftGradu           0.206761       0.174078  ... -0.051886    0.125040\n",
              "wayTolivexpense         0.413069       0.604614  ...  0.011225    0.550590\n",
              "schoolType             -0.000098      -0.003497  ... -0.067994   -0.155924\n",
              "majorCate               0.020261       0.020851  ... -0.064330   -0.107178\n",
              "age                     0.039478       0.050639  ...  0.024569    0.048944\n",
              "internExp               0.078706       0.115203  ... -0.006254    0.083456\n",
              "toeicScore             -0.018634      -0.001360  ...  0.009143   -0.120862\n",
              "tospGrade              -0.003876       0.000287  ...  0.025461   -0.052452\n",
              "trainingHr             -0.007777      -0.003676  ...  0.040336   -0.009677\n",
              "jobseekYN              -0.047801      -0.001145  ...  0.119315   -0.040965\n",
              "certNum                -0.017914       0.015523  ...  1.000000    0.029902\n",
              "subJobCate              0.277004       0.405454  ...  0.029902    1.000000\n",
              "\n",
              "[16 rows x 16 columns]"
            ]
          },
          "metadata": {
            "tags": []
          },
          "execution_count": 43
        }
      ]
    },
    {
      "cell_type": "code",
      "metadata": {
        "colab": {
          "base_uri": "https://localhost:8080/"
        },
        "id": "u6Jrl51n4JGc",
        "outputId": "6ee689ce-9fa2-4f84-9f7a-1c1dfc561f96"
      },
      "source": [
        "y_main = data3['subJobCate']\n",
        "x_main = data3.drop(['subJobCate'],axis=1)\n",
        "\n",
        "X_train, X_test, y_train, y_test = train_test_split(x_main, y_main, test_size=0.3, random_state=0)\n",
        "dtr = DecisionTreeRegressor(max_depth=3, random_state=12)\n",
        "dtr.fit(X_train, y_train)\n",
        "\n",
        "rfr = RandomForestRegressor(max_depth = 3,random_state=12)\n",
        "rfr.fit(X_train, y_train)\n",
        "\n",
        "xgbr = XGBRegressor(objective='reg:squarederror', max_depth=3, random_state=12)\n",
        "xgbr.fit(X_train, y_train)"
      ],
      "execution_count": null,
      "outputs": [
        {
          "output_type": "execute_result",
          "data": {
            "text/plain": [
              "XGBRegressor(base_score=0.5, booster='gbtree', colsample_bylevel=1,\n",
              "             colsample_bynode=1, colsample_bytree=1, gamma=0,\n",
              "             importance_type='gain', learning_rate=0.1, max_delta_step=0,\n",
              "             max_depth=3, min_child_weight=1, missing=None, n_estimators=100,\n",
              "             n_jobs=1, nthread=None, objective='reg:squarederror',\n",
              "             random_state=12, reg_alpha=0, reg_lambda=1, scale_pos_weight=1,\n",
              "             seed=None, silent=None, subsample=1, verbosity=1)"
            ]
          },
          "metadata": {
            "tags": []
          },
          "execution_count": 44
        }
      ]
    },
    {
      "cell_type": "code",
      "metadata": {
        "colab": {
          "base_uri": "https://localhost:8080/"
        },
        "id": "nDLfgu814JV8",
        "outputId": "cfe7e906-fa35-4a07-df05-ad89fd2fd6d3"
      },
      "source": [
        "y_train_pred = dtr.predict(X_train)\n",
        "train_mse = mean_squared_error(y_train, y_train_pred)\n",
        "print(\"Train MSE: %.4f\" % train_mse)\n",
        "\n",
        "y_test_pred = dtr.predict(X_test)\n",
        "test_mse = mean_squared_error(y_test, y_test_pred)\n",
        "print(\"Test MSE: %.4f\" % test_mse)"
      ],
      "execution_count": null,
      "outputs": [
        {
          "output_type": "stream",
          "text": [
            "Train MSE: 570.6813\n",
            "Test MSE: 582.6663\n"
          ],
          "name": "stdout"
        }
      ]
    },
    {
      "cell_type": "code",
      "metadata": {
        "colab": {
          "base_uri": "https://localhost:8080/"
        },
        "id": "uF3zxuNV4WHV",
        "outputId": "0f631836-3f0f-4e58-d353-dfc38361d699"
      },
      "source": [
        "y_train_pred = rfr.predict(X_train)\n",
        "train_mse = mean_squared_error(y_train, y_train_pred)\n",
        "print(\"Train MSE: %.4f\" % train_mse)\n",
        "\n",
        "y_test_pred = rfr.predict(X_test)\n",
        "test_mse = mean_squared_error(y_test, y_test_pred)\n",
        "print(\"Test MSE: %.4f\" % test_mse)\n",
        "\n",
        "y_train_pred = rfr.predict(X_train)"
      ],
      "execution_count": null,
      "outputs": [
        {
          "output_type": "stream",
          "text": [
            "Train MSE: 565.4750\n",
            "Test MSE: 577.6326\n"
          ],
          "name": "stdout"
        }
      ]
    },
    {
      "cell_type": "code",
      "metadata": {
        "colab": {
          "base_uri": "https://localhost:8080/"
        },
        "id": "KI5uhh3q4YJx",
        "outputId": "2e734abf-02bc-4d72-a0c9-40fcef31e960"
      },
      "source": [
        "y_train_pred = xgbr.predict(X_train)\n",
        "train_mse = mean_squared_error(y_train, y_train_pred)\n",
        "print(\"Train MSE: %.4f\" % train_mse)\n",
        "\n",
        "y_test_pred = xgbr.predict(X_test)\n",
        "test_mse = mean_squared_error(y_test, y_test_pred)\n",
        "print(\"Test MSE: %.4f\" % test_mse)"
      ],
      "execution_count": null,
      "outputs": [
        {
          "output_type": "stream",
          "text": [
            "Train MSE: 524.2288\n",
            "Test MSE: 548.8263\n"
          ],
          "name": "stdout"
        }
      ]
    },
    {
      "cell_type": "code",
      "metadata": {
        "colab": {
          "base_uri": "https://localhost:8080/"
        },
        "id": "1b0mTGxF4aYJ",
        "outputId": "2c282779-186a-4130-851c-99aee864f88b"
      },
      "source": [
        "lgbm_reg = LGBMRegressor( max_depth=3, random_state=12)\n",
        "lgbm_reg.fit(X_train, y_train)"
      ],
      "execution_count": null,
      "outputs": [
        {
          "output_type": "execute_result",
          "data": {
            "text/plain": [
              "LGBMRegressor(boosting_type='gbdt', class_weight=None, colsample_bytree=1.0,\n",
              "              importance_type='split', learning_rate=0.1, max_depth=3,\n",
              "              min_child_samples=20, min_child_weight=0.001, min_split_gain=0.0,\n",
              "              n_estimators=100, n_jobs=-1, num_leaves=31, objective=None,\n",
              "              random_state=12, reg_alpha=0.0, reg_lambda=0.0, silent=True,\n",
              "              subsample=1.0, subsample_for_bin=200000, subsample_freq=0)"
            ]
          },
          "metadata": {
            "tags": []
          },
          "execution_count": 48
        }
      ]
    },
    {
      "cell_type": "code",
      "metadata": {
        "colab": {
          "base_uri": "https://localhost:8080/"
        },
        "id": "CZYVHim-4frs",
        "outputId": "a75770d4-fcc7-43c3-ef32-d02468c0fff1"
      },
      "source": [
        "y_train_pred = lgbm_reg.predict(X_train)\n",
        "train_mse = mean_squared_error(y_train, y_train_pred)\n",
        "print(\"Train MSE: %.4f\" % train_mse)\n",
        "\n",
        "y_test_pred = lgbm_reg.predict(X_test)\n",
        "test_mse = mean_squared_error(y_test, y_test_pred)\n",
        "print(\"Test MSE: %.4f\" % test_mse)"
      ],
      "execution_count": null,
      "outputs": [
        {
          "output_type": "stream",
          "text": [
            "Train MSE: 523.7102\n",
            "Test MSE: 547.4951\n"
          ],
          "name": "stdout"
        }
      ]
    },
    {
      "cell_type": "markdown",
      "metadata": {
        "id": "NXnU0O6nfV0r"
      },
      "source": [
        "pickle 저장 - 최종본"
      ]
    },
    {
      "cell_type": "code",
      "metadata": {
        "id": "Z8oLga1_XdBA"
      },
      "source": [
        "data = pd.read_csv('/content/drive/MyDrive/goms_feature_prep_com.csv')"
      ],
      "execution_count": null,
      "outputs": []
    },
    {
      "cell_type": "code",
      "metadata": {
        "colab": {
          "base_uri": "https://localhost:8080/",
          "height": 204
        },
        "id": "1IQ8mQEifhh6",
        "outputId": "578d7f90-7854-421d-cb56-92f1d7667391"
      },
      "source": [
        "data.head()"
      ],
      "execution_count": null,
      "outputs": [
        {
          "output_type": "execute_result",
          "data": {
            "text/html": [
              "<div>\n",
              "<style scoped>\n",
              "    .dataframe tbody tr th:only-of-type {\n",
              "        vertical-align: middle;\n",
              "    }\n",
              "\n",
              "    .dataframe tbody tr th {\n",
              "        vertical-align: top;\n",
              "    }\n",
              "\n",
              "    .dataframe thead th {\n",
              "        text-align: right;\n",
              "    }\n",
              "</style>\n",
              "<table border=\"1\" class=\"dataframe\">\n",
              "  <thead>\n",
              "    <tr style=\"text-align: right;\">\n",
              "      <th></th>\n",
              "      <th>jobsearch</th>\n",
              "      <th>yrwish</th>\n",
              "      <th>wishhr</th>\n",
              "      <th>wishsalary</th>\n",
              "      <th>jobgradu</th>\n",
              "      <th>liveexp</th>\n",
              "      <th>schooltype</th>\n",
              "      <th>majorcate</th>\n",
              "      <th>age</th>\n",
              "      <th>intern</th>\n",
              "      <th>toeic</th>\n",
              "      <th>tosp</th>\n",
              "      <th>train</th>\n",
              "      <th>jobseek</th>\n",
              "      <th>cert</th>\n",
              "      <th>subJobCate</th>\n",
              "    </tr>\n",
              "  </thead>\n",
              "  <tbody>\n",
              "    <tr>\n",
              "      <th>0</th>\n",
              "      <td>2</td>\n",
              "      <td>2</td>\n",
              "      <td>0</td>\n",
              "      <td>0</td>\n",
              "      <td>2</td>\n",
              "      <td>1</td>\n",
              "      <td>1</td>\n",
              "      <td>1</td>\n",
              "      <td>23</td>\n",
              "      <td>0</td>\n",
              "      <td>0</td>\n",
              "      <td>0</td>\n",
              "      <td>0</td>\n",
              "      <td>1</td>\n",
              "      <td>0</td>\n",
              "      <td>73</td>\n",
              "    </tr>\n",
              "    <tr>\n",
              "      <th>1</th>\n",
              "      <td>1</td>\n",
              "      <td>2</td>\n",
              "      <td>3</td>\n",
              "      <td>2400</td>\n",
              "      <td>2</td>\n",
              "      <td>-1</td>\n",
              "      <td>1</td>\n",
              "      <td>1</td>\n",
              "      <td>21</td>\n",
              "      <td>0</td>\n",
              "      <td>0</td>\n",
              "      <td>0</td>\n",
              "      <td>240</td>\n",
              "      <td>1</td>\n",
              "      <td>0</td>\n",
              "      <td>0</td>\n",
              "    </tr>\n",
              "    <tr>\n",
              "      <th>2</th>\n",
              "      <td>2</td>\n",
              "      <td>2</td>\n",
              "      <td>0</td>\n",
              "      <td>0</td>\n",
              "      <td>2</td>\n",
              "      <td>3</td>\n",
              "      <td>1</td>\n",
              "      <td>1</td>\n",
              "      <td>21</td>\n",
              "      <td>0</td>\n",
              "      <td>800</td>\n",
              "      <td>0</td>\n",
              "      <td>0</td>\n",
              "      <td>0</td>\n",
              "      <td>1</td>\n",
              "      <td>41</td>\n",
              "    </tr>\n",
              "    <tr>\n",
              "      <th>3</th>\n",
              "      <td>2</td>\n",
              "      <td>2</td>\n",
              "      <td>0</td>\n",
              "      <td>0</td>\n",
              "      <td>2</td>\n",
              "      <td>1</td>\n",
              "      <td>1</td>\n",
              "      <td>1</td>\n",
              "      <td>25</td>\n",
              "      <td>0</td>\n",
              "      <td>0</td>\n",
              "      <td>0</td>\n",
              "      <td>0</td>\n",
              "      <td>0</td>\n",
              "      <td>0</td>\n",
              "      <td>68</td>\n",
              "    </tr>\n",
              "    <tr>\n",
              "      <th>4</th>\n",
              "      <td>2</td>\n",
              "      <td>2</td>\n",
              "      <td>0</td>\n",
              "      <td>0</td>\n",
              "      <td>2</td>\n",
              "      <td>1</td>\n",
              "      <td>1</td>\n",
              "      <td>1</td>\n",
              "      <td>21</td>\n",
              "      <td>0</td>\n",
              "      <td>0</td>\n",
              "      <td>0</td>\n",
              "      <td>0</td>\n",
              "      <td>1</td>\n",
              "      <td>1</td>\n",
              "      <td>82</td>\n",
              "    </tr>\n",
              "  </tbody>\n",
              "</table>\n",
              "</div>"
            ],
            "text/plain": [
              "   jobsearch  yrwish  wishhr  wishsalary  ...  train  jobseek  cert  subJobCate\n",
              "0          2       2       0           0  ...      0        1     0          73\n",
              "1          1       2       3        2400  ...    240        1     0           0\n",
              "2          2       2       0           0  ...      0        0     1          41\n",
              "3          2       2       0           0  ...      0        0     0          68\n",
              "4          2       2       0           0  ...      0        1     1          82\n",
              "\n",
              "[5 rows x 16 columns]"
            ]
          },
          "metadata": {
            "tags": []
          },
          "execution_count": 52
        }
      ]
    },
    {
      "cell_type": "code",
      "metadata": {
        "colab": {
          "base_uri": "https://localhost:8080/"
        },
        "id": "TBdwW-wcfxoW",
        "outputId": "16d5f901-1ac7-46cc-e030-0c819d0427c6"
      },
      "source": [
        "y_main = data['subJobCate']\n",
        "x_main = data.drop(['subJobCate'],axis=1)\n",
        "\n",
        "X_train, X_test, y_train, y_test = train_test_split(x_main, y_main, test_size=0.3, random_state=0)\n",
        "dtr = DecisionTreeRegressor(max_depth=3, random_state=12)\n",
        "dtr.fit(X_train, y_train)\n",
        "\n",
        "rfr = RandomForestRegressor(max_depth = 3,random_state=12)\n",
        "rfr.fit(X_train, y_train)\n",
        "\n",
        "xgbr = XGBRegressor(objective='reg:squarederror', max_depth=3, random_state=12)\n",
        "xgbr.fit(X_train, y_train)"
      ],
      "execution_count": null,
      "outputs": [
        {
          "output_type": "execute_result",
          "data": {
            "text/plain": [
              "XGBRegressor(base_score=0.5, booster='gbtree', colsample_bylevel=1,\n",
              "             colsample_bynode=1, colsample_bytree=1, gamma=0,\n",
              "             importance_type='gain', learning_rate=0.1, max_delta_step=0,\n",
              "             max_depth=3, min_child_weight=1, missing=None, n_estimators=100,\n",
              "             n_jobs=1, nthread=None, objective='reg:squarederror',\n",
              "             random_state=12, reg_alpha=0, reg_lambda=1, scale_pos_weight=1,\n",
              "             seed=None, silent=None, subsample=1, verbosity=1)"
            ]
          },
          "metadata": {
            "tags": []
          },
          "execution_count": 54
        }
      ]
    },
    {
      "cell_type": "code",
      "metadata": {
        "colab": {
          "base_uri": "https://localhost:8080/"
        },
        "id": "cxRN1OK9frMY",
        "outputId": "cd0b0772-a109-455b-bfd9-1eff9c42f925"
      },
      "source": [
        "y_train_pred = dtr.predict(X_train)\n",
        "train_mse = mean_squared_error(y_train, y_train_pred)\n",
        "print(\"Train MSE: %.4f\" % train_mse)\n",
        "\n",
        "y_test_pred = dtr.predict(X_test)\n",
        "test_mse = mean_squared_error(y_test, y_test_pred)\n",
        "print(\"Test MSE: %.4f\" % test_mse)"
      ],
      "execution_count": null,
      "outputs": [
        {
          "output_type": "stream",
          "text": [
            "Train MSE: 570.6813\n",
            "Test MSE: 582.6663\n"
          ],
          "name": "stdout"
        }
      ]
    },
    {
      "cell_type": "code",
      "metadata": {
        "colab": {
          "base_uri": "https://localhost:8080/"
        },
        "id": "8K-q7GOMfrvI",
        "outputId": "4d6d2e59-ac57-4055-bd02-64cea55dd56e"
      },
      "source": [
        "y_train_pred = rfr.predict(X_train)\n",
        "train_mse = mean_squared_error(y_train, y_train_pred)\n",
        "print(\"Train MSE: %.4f\" % train_mse)\n",
        "\n",
        "y_test_pred = rfr.predict(X_test)\n",
        "test_mse = mean_squared_error(y_test, y_test_pred)\n",
        "print(\"Test MSE: %.4f\" % test_mse)\n",
        "\n",
        "y_train_pred = rfr.predict(X_train)"
      ],
      "execution_count": null,
      "outputs": [
        {
          "output_type": "stream",
          "text": [
            "Train MSE: 565.4750\n",
            "Test MSE: 577.6326\n"
          ],
          "name": "stdout"
        }
      ]
    },
    {
      "cell_type": "code",
      "metadata": {
        "colab": {
          "base_uri": "https://localhost:8080/"
        },
        "id": "dF0CEALaf47C",
        "outputId": "f7054517-1aea-4765-8b56-0f88ad73f4fe"
      },
      "source": [
        "y_train_pred = xgbr.predict(X_train)\n",
        "train_mse = mean_squared_error(y_train, y_train_pred)\n",
        "print(\"Train MSE: %.4f\" % train_mse)\n",
        "\n",
        "y_test_pred = xgbr.predict(X_test)\n",
        "test_mse = mean_squared_error(y_test, y_test_pred)\n",
        "print(\"Test MSE: %.4f\" % test_mse)"
      ],
      "execution_count": null,
      "outputs": [
        {
          "output_type": "stream",
          "text": [
            "Train MSE: 524.2288\n",
            "Test MSE: 548.8263\n"
          ],
          "name": "stdout"
        }
      ]
    },
    {
      "cell_type": "code",
      "metadata": {
        "colab": {
          "base_uri": "https://localhost:8080/"
        },
        "id": "bMd24cw7gBBd",
        "outputId": "39fccb98-b967-44f1-8c86-4ef8f711812d"
      },
      "source": [
        "lgbm_reg = LGBMRegressor( max_depth=3, random_state=12)\n",
        "lgbm_reg.fit(X_train, y_train)"
      ],
      "execution_count": null,
      "outputs": [
        {
          "output_type": "execute_result",
          "data": {
            "text/plain": [
              "LGBMRegressor(boosting_type='gbdt', class_weight=None, colsample_bytree=1.0,\n",
              "              importance_type='split', learning_rate=0.1, max_depth=3,\n",
              "              min_child_samples=20, min_child_weight=0.001, min_split_gain=0.0,\n",
              "              n_estimators=100, n_jobs=-1, num_leaves=31, objective=None,\n",
              "              random_state=12, reg_alpha=0.0, reg_lambda=0.0, silent=True,\n",
              "              subsample=1.0, subsample_for_bin=200000, subsample_freq=0)"
            ]
          },
          "metadata": {
            "tags": []
          },
          "execution_count": 58
        }
      ]
    },
    {
      "cell_type": "code",
      "metadata": {
        "colab": {
          "base_uri": "https://localhost:8080/"
        },
        "id": "noGAMcncgDxN",
        "outputId": "54e963f2-0d8d-4c0e-ebf6-91cef1a2e2ef"
      },
      "source": [
        "y_train_pred = lgbm_reg.predict(X_train)\n",
        "train_mse = mean_squared_error(y_train, y_train_pred)\n",
        "print(\"Train MSE: %.4f\" % train_mse)\n",
        "\n",
        "y_test_pred = lgbm_reg.predict(X_test)\n",
        "test_mse = mean_squared_error(y_test, y_test_pred)\n",
        "print(\"Test MSE: %.4f\" % test_mse)"
      ],
      "execution_count": null,
      "outputs": [
        {
          "output_type": "stream",
          "text": [
            "Train MSE: 523.7102\n",
            "Test MSE: 547.4951\n"
          ],
          "name": "stdout"
        }
      ]
    },
    {
      "cell_type": "code",
      "metadata": {
        "id": "OJE3c-UngHKM"
      },
      "source": [
        "import pickle"
      ],
      "execution_count": null,
      "outputs": []
    },
    {
      "cell_type": "code",
      "metadata": {
        "colab": {
          "base_uri": "https://localhost:8080/"
        },
        "id": "4ZYx6oFqgKPY",
        "outputId": "e4879df7-48fb-4c38-da1c-b24874207432"
      },
      "source": [
        "from sklearn.externals import joblib\n",
        " \n",
        "# save model\n",
        "joblib.dump(lgbm_reg, 'lgb.pkl')\n",
        " "
      ],
      "execution_count": null,
      "outputs": [
        {
          "output_type": "stream",
          "text": [
            "/usr/local/lib/python3.7/dist-packages/sklearn/externals/joblib/__init__.py:15: FutureWarning: sklearn.externals.joblib is deprecated in 0.21 and will be removed in 0.23. Please import this functionality directly from joblib, which can be installed with: pip install joblib. If this warning is raised when loading pickled models, you may need to re-serialize those models with scikit-learn 0.21+.\n",
            "  warnings.warn(msg, category=FutureWarning)\n"
          ],
          "name": "stderr"
        },
        {
          "output_type": "execute_result",
          "data": {
            "text/plain": [
              "['lgb.pkl']"
            ]
          },
          "metadata": {
            "tags": []
          },
          "execution_count": 61
        }
      ]
    },
    {
      "cell_type": "code",
      "metadata": {
        "id": "dij7TwwgrPt-"
      },
      "source": [
        "# load model\n",
        "load_model = joblib.load('lgb.pkl')"
      ],
      "execution_count": null,
      "outputs": []
    },
    {
      "cell_type": "code",
      "metadata": {
        "id": "X_NmF-N52K9d"
      },
      "source": [
        "from lightgbm import LGBMClassifier"
      ],
      "execution_count": null,
      "outputs": []
    },
    {
      "cell_type": "code",
      "metadata": {
        "colab": {
          "base_uri": "https://localhost:8080/"
        },
        "id": "WP8HCiAXrUo6",
        "outputId": "81356f1e-0856-4db8-a009-2bba1a73b88a"
      },
      "source": [
        "data = pd.read_csv('/content/drive/MyDrive/goms_feature_prep_com.csv')\n",
        "\n",
        "y_main = data['subJobCate']\n",
        "x_main = data.drop(['subJobCate'],axis=1)\n",
        "\n",
        "X_train, X_test, y_train, y_test = train_test_split(x_main, y_main, test_size=0.3, random_state=0)\n",
        "lgbm_clf = LGBMClassifier( max_depth=3, random_state=12)\n",
        "lgbm_clf.fit(X_train, y_train)\n",
        "y_train_pred = lgbm_clf.predict(X_train)\n",
        "from sklearn.metrics import accuracy_score\n",
        "accuracy_score(y_train,y_train_pred)"
      ],
      "execution_count": null,
      "outputs": [
        {
          "output_type": "execute_result",
          "data": {
            "text/plain": [
              "0.08628283781658015"
            ]
          },
          "metadata": {
            "tags": []
          },
          "execution_count": 80
        }
      ]
    },
    {
      "cell_type": "code",
      "metadata": {
        "colab": {
          "base_uri": "https://localhost:8080/"
        },
        "id": "gd_RSOwI3OH0",
        "outputId": "0f487635-cfc5-46c3-fef2-fbb1f7083645"
      },
      "source": [
        "# save model\n",
        "joblib.dump(lgbm_clf, 'lgb_clf.pkl')"
      ],
      "execution_count": null,
      "outputs": [
        {
          "output_type": "execute_result",
          "data": {
            "text/plain": [
              "['lgb_clf.pkl']"
            ]
          },
          "metadata": {
            "tags": []
          },
          "execution_count": 66
        }
      ]
    },
    {
      "cell_type": "code",
      "metadata": {
        "id": "oYHGl1yv4YfM"
      },
      "source": [
        "# load model\n",
        "load_model = joblib.load('lgb.pkl')\n",
        "# result = load_model.predict(pd.DataFrame())"
      ],
      "execution_count": null,
      "outputs": []
    },
    {
      "cell_type": "markdown",
      "metadata": {
        "id": "gcEbee5R4yXD"
      },
      "source": [
        "mid"
      ]
    },
    {
      "cell_type": "code",
      "metadata": {
        "id": "nFEY53A_5Pxc"
      },
      "source": [
        "data = pd.read_csv('/content/drive/MyDrive/goms_feature_prep_com_mid.csv')"
      ],
      "execution_count": null,
      "outputs": []
    },
    {
      "cell_type": "code",
      "metadata": {
        "colab": {
          "base_uri": "https://localhost:8080/",
          "height": 204
        },
        "id": "UxUZePnN50FU",
        "outputId": "7ad27f8c-8ca9-4d5d-93be-8106fd1e86e9"
      },
      "source": [
        "data.head()"
      ],
      "execution_count": null,
      "outputs": [
        {
          "output_type": "execute_result",
          "data": {
            "text/html": [
              "<div>\n",
              "<style scoped>\n",
              "    .dataframe tbody tr th:only-of-type {\n",
              "        vertical-align: middle;\n",
              "    }\n",
              "\n",
              "    .dataframe tbody tr th {\n",
              "        vertical-align: top;\n",
              "    }\n",
              "\n",
              "    .dataframe thead th {\n",
              "        text-align: right;\n",
              "    }\n",
              "</style>\n",
              "<table border=\"1\" class=\"dataframe\">\n",
              "  <thead>\n",
              "    <tr style=\"text-align: right;\">\n",
              "      <th></th>\n",
              "      <th>jobsearch</th>\n",
              "      <th>yrwish</th>\n",
              "      <th>wishhr</th>\n",
              "      <th>wishsalary</th>\n",
              "      <th>jobgradu</th>\n",
              "      <th>liveexp</th>\n",
              "      <th>schooltype</th>\n",
              "      <th>majorcate</th>\n",
              "      <th>age</th>\n",
              "      <th>intern</th>\n",
              "      <th>toeic</th>\n",
              "      <th>tosp</th>\n",
              "      <th>train</th>\n",
              "      <th>jobseek</th>\n",
              "      <th>cert</th>\n",
              "      <th>midJobCate</th>\n",
              "    </tr>\n",
              "  </thead>\n",
              "  <tbody>\n",
              "    <tr>\n",
              "      <th>0</th>\n",
              "      <td>2</td>\n",
              "      <td>2</td>\n",
              "      <td>0</td>\n",
              "      <td>0</td>\n",
              "      <td>2</td>\n",
              "      <td>1</td>\n",
              "      <td>1</td>\n",
              "      <td>1</td>\n",
              "      <td>23</td>\n",
              "      <td>0</td>\n",
              "      <td>0</td>\n",
              "      <td>0</td>\n",
              "      <td>0</td>\n",
              "      <td>1</td>\n",
              "      <td>0</td>\n",
              "      <td>20</td>\n",
              "    </tr>\n",
              "    <tr>\n",
              "      <th>1</th>\n",
              "      <td>1</td>\n",
              "      <td>2</td>\n",
              "      <td>3</td>\n",
              "      <td>2400</td>\n",
              "      <td>2</td>\n",
              "      <td>-1</td>\n",
              "      <td>1</td>\n",
              "      <td>1</td>\n",
              "      <td>21</td>\n",
              "      <td>0</td>\n",
              "      <td>0</td>\n",
              "      <td>0</td>\n",
              "      <td>240</td>\n",
              "      <td>1</td>\n",
              "      <td>0</td>\n",
              "      <td>0</td>\n",
              "    </tr>\n",
              "    <tr>\n",
              "      <th>2</th>\n",
              "      <td>2</td>\n",
              "      <td>2</td>\n",
              "      <td>0</td>\n",
              "      <td>0</td>\n",
              "      <td>2</td>\n",
              "      <td>3</td>\n",
              "      <td>1</td>\n",
              "      <td>1</td>\n",
              "      <td>21</td>\n",
              "      <td>0</td>\n",
              "      <td>800</td>\n",
              "      <td>0</td>\n",
              "      <td>0</td>\n",
              "      <td>0</td>\n",
              "      <td>1</td>\n",
              "      <td>9</td>\n",
              "    </tr>\n",
              "    <tr>\n",
              "      <th>3</th>\n",
              "      <td>2</td>\n",
              "      <td>2</td>\n",
              "      <td>0</td>\n",
              "      <td>0</td>\n",
              "      <td>2</td>\n",
              "      <td>1</td>\n",
              "      <td>1</td>\n",
              "      <td>1</td>\n",
              "      <td>25</td>\n",
              "      <td>0</td>\n",
              "      <td>0</td>\n",
              "      <td>0</td>\n",
              "      <td>0</td>\n",
              "      <td>0</td>\n",
              "      <td>0</td>\n",
              "      <td>18</td>\n",
              "    </tr>\n",
              "    <tr>\n",
              "      <th>4</th>\n",
              "      <td>2</td>\n",
              "      <td>2</td>\n",
              "      <td>0</td>\n",
              "      <td>0</td>\n",
              "      <td>2</td>\n",
              "      <td>1</td>\n",
              "      <td>1</td>\n",
              "      <td>1</td>\n",
              "      <td>21</td>\n",
              "      <td>0</td>\n",
              "      <td>0</td>\n",
              "      <td>0</td>\n",
              "      <td>0</td>\n",
              "      <td>1</td>\n",
              "      <td>1</td>\n",
              "      <td>23</td>\n",
              "    </tr>\n",
              "  </tbody>\n",
              "</table>\n",
              "</div>"
            ],
            "text/plain": [
              "   jobsearch  yrwish  wishhr  wishsalary  ...  train  jobseek  cert  midJobCate\n",
              "0          2       2       0           0  ...      0        1     0          20\n",
              "1          1       2       3        2400  ...    240        1     0           0\n",
              "2          2       2       0           0  ...      0        0     1           9\n",
              "3          2       2       0           0  ...      0        0     0          18\n",
              "4          2       2       0           0  ...      0        1     1          23\n",
              "\n",
              "[5 rows x 16 columns]"
            ]
          },
          "metadata": {},
          "execution_count": 4
        }
      ]
    },
    {
      "cell_type": "code",
      "metadata": {
        "id": "hxfdzkiQXGc3"
      },
      "source": [
        "from sklearn.model_selection import train_test_split"
      ],
      "execution_count": null,
      "outputs": []
    },
    {
      "cell_type": "code",
      "metadata": {
        "colab": {
          "base_uri": "https://localhost:8080/"
        },
        "id": "5yQ3V5tL2m6X",
        "outputId": "b064e725-cfdb-4400-e81e-c074d2c2e060"
      },
      "source": [
        "y_main = data['midJobCate']\n",
        "x_main = data.drop(['midJobCate'],axis=1)\n",
        "\n",
        "X_train, X_test, y_train, y_test = train_test_split(x_main, y_main, test_size=0.3, random_state=0)\n",
        "\n",
        "lgbm_clf = LGBMClassifier( max_depth=3, random_state=12)\n",
        "lgbm_clf.fit(X_train, y_train)\n",
        "y_train_pred = lgbm_clf.predict(X_train)\n",
        "from sklearn.metrics import accuracy_score\n",
        "accuracy_score(y_train,y_train_pred)\n",
        "y_test_pred = lgbm_clf.predict(X_test)\n",
        "\n",
        "accuracy_score(y_test,y_test_pred)\n"
      ],
      "execution_count": null,
      "outputs": [
        {
          "output_type": "execute_result",
          "data": {
            "text/plain": [
              "0.6146081849880712"
            ]
          },
          "metadata": {},
          "execution_count": 12
        }
      ]
    },
    {
      "cell_type": "code",
      "metadata": {
        "colab": {
          "base_uri": "https://localhost:8080/",
          "height": 748
        },
        "id": "XYpJDr6TPeFw",
        "outputId": "884d6347-2da2-44b3-cdac-b5c0df45b5da"
      },
      "source": [
        "from lightgbm import plot_importance\n",
        "import matplotlib.pyplot as plt\n",
        "%matplotlib inline\n",
        "\n",
        "fig, ax = plt.subplots(figsize=(10, 12))\n",
        "plot_importance(lgbm_clf, ax=ax)"
      ],
      "execution_count": null,
      "outputs": [
        {
          "output_type": "execute_result",
          "data": {
            "text/plain": [
              "<matplotlib.axes._subplots.AxesSubplot at 0x7fb4c51c68d0>"
            ]
          },
          "metadata": {},
          "execution_count": 13
        },
        {
          "output_type": "display_data",
          "data": {
            "image/png": "[encoded data removed]",
            "text/plain": [
              "<Figure size 720x864 with 1 Axes>"
            ]
          },
          "metadata": {
            "needs_background": "light"
          }
        }
      ]
    },
    {
      "cell_type": "code",
      "metadata": {
        "colab": {
          "base_uri": "https://localhost:8080/"
        },
        "id": "Q-JNWBJM56Ix",
        "outputId": "470ba0cc-d5d8-4e65-d58e-524a9c731064"
      },
      "source": [
        "from sklearn.externals import joblib\n",
        "# save model\n",
        "joblib.dump(lgbm_clf, 'lgb_clf_mid.pkl')"
      ],
      "execution_count": null,
      "outputs": [
        {
          "output_type": "stream",
          "text": [
            "/usr/local/lib/python3.7/dist-packages/sklearn/externals/joblib/__init__.py:15: FutureWarning: sklearn.externals.joblib is deprecated in 0.21 and will be removed in 0.23. Please import this functionality directly from joblib, which can be installed with: pip install joblib. If this warning is raised when loading pickled models, you may need to re-serialize those models with scikit-learn 0.21+.\n",
            "  warnings.warn(msg, category=FutureWarning)\n"
          ],
          "name": "stderr"
        },
        {
          "output_type": "execute_result",
          "data": {
            "text/plain": [
              "['lgb_clf_mid.pkl']"
            ]
          },
          "metadata": {},
          "execution_count": 15
        }
      ]
    }
  ]
}