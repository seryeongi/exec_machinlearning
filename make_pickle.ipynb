{
 "cells": [
  {
   "cell_type": "code",
   "execution_count": 1,
   "id": "531f726c",
   "metadata": {},
   "outputs": [],
   "source": [
    "import pickle"
   ]
  },
  {
   "cell_type": "code",
   "execution_count": 2,
   "id": "7e5d694e",
   "metadata": {},
   "outputs": [],
   "source": [
    "favorite = {'lion':'yellow', 'tiger':'red'}"
   ]
  },
  {
   "cell_type": "code",
   "execution_count": 3,
   "id": "b97498d0",
   "metadata": {},
   "outputs": [],
   "source": [
    "# as machine learning, favorite -> model variable\n",
    "pickle.dump(favorite, open('./saves/favorite_save.pkl','wb'))"
   ]
  },
  {
   "cell_type": "code",
   "execution_count": null,
   "id": "6eae31f8",
   "metadata": {},
   "outputs": [],
   "source": []
  }
 ],
 "metadata": {
  "kernelspec": {
   "display_name": "Python 3",
   "language": "python",
   "name": "python3"
  },
  "language_info": {
   "codemirror_mode": {
    "name": "ipython",
    "version": 3
   },
   "file_extension": ".py",
   "mimetype": "text/x-python",
   "name": "python",
   "nbconvert_exporter": "python",
   "pygments_lexer": "ipython3",
   "version": "3.8.8"
  }
 },
 "nbformat": 4,
 "nbformat_minor": 5
}
