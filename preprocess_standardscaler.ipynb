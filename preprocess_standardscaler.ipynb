{
 "cells": [
  {
   "cell_type": "markdown",
   "id": "9bf512aa",
   "metadata": {},
   "source": [
    "0  1\n",
    "-----\n",
    "0 | 0\n",
    "0 | 0\n",
    "1 | 1\n",
    "1 | 1"
   ]
  },
  {
   "cell_type": "code",
   "execution_count": 1,
   "id": "6cdef495",
   "metadata": {},
   "outputs": [],
   "source": [
    ">>> data = [[0, 0], [0, 0], [1, 1], [1, 1]]"
   ]
  },
  {
   "cell_type": "code",
   "execution_count": 2,
   "id": "39d0633b",
   "metadata": {},
   "outputs": [],
   "source": [
    ">>> from sklearn.preprocessing import StandardScaler\n",
    ">>> scaler = StandardScaler()"
   ]
  },
  {
   "cell_type": "markdown",
   "id": "cbc2d2e9",
   "metadata": {},
   "source": [
    "fit: 자료를 넘겨줘서 표준정규분포로 만듦, 얘는 룰을 가지고 있음 ( 룰만 인지, 데이터는 버림)  \n",
    "transform : 룰만 가진 것을 transform 해야 값이 변환됨"
   ]
  },
  {
   "cell_type": "code",
   "execution_count": 3,
   "id": "a15b5189",
   "metadata": {},
   "outputs": [
    {
     "name": "stdout",
     "output_type": "stream",
     "text": [
      "StandardScaler()\n"
     ]
    }
   ],
   "source": [
    ">>> print(scaler.fit(data))"
   ]
  },
  {
   "cell_type": "code",
   "execution_count": 4,
   "id": "2a903a63",
   "metadata": {},
   "outputs": [
    {
     "name": "stdout",
     "output_type": "stream",
     "text": [
      "[0.5 0.5]\n"
     ]
    }
   ],
   "source": [
    ">>> print(scaler.mean_)"
   ]
  },
  {
   "cell_type": "code",
   "execution_count": 5,
   "id": "6e46fab5",
   "metadata": {},
   "outputs": [
    {
     "name": "stdout",
     "output_type": "stream",
     "text": [
      "[[-1. -1.]\n",
      " [-1. -1.]\n",
      " [ 1.  1.]\n",
      " [ 1.  1.]]\n"
     ]
    }
   ],
   "source": [
    ">>> print(scaler.transform(data))"
   ]
  },
  {
   "cell_type": "code",
   "execution_count": 6,
   "id": "400936a9",
   "metadata": {},
   "outputs": [
    {
     "name": "stdout",
     "output_type": "stream",
     "text": [
      "[[3. 3.]]\n"
     ]
    }
   ],
   "source": [
    ">>> print(scaler.transform([[2, 2]]))"
   ]
  }
 ],
 "metadata": {
  "kernelspec": {
   "display_name": "Python 3",
   "language": "python",
   "name": "python3"
  },
  "language_info": {
   "codemirror_mode": {
    "name": "ipython",
    "version": 3
   },
   "file_extension": ".py",
   "mimetype": "text/x-python",
   "name": "python",
   "nbconvert_exporter": "python",
   "pygments_lexer": "ipython3",
   "version": "3.8.8"
  }
 },
 "nbformat": 4,
 "nbformat_minor": 5
}
